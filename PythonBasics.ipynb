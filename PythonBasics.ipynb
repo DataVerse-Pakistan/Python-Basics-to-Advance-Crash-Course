{
 "cells": [
  {
   "cell_type": "markdown",
   "id": "84b16c6c",
   "metadata": {
    "papermill": {
     "duration": 0.033054,
     "end_time": "2022-05-26T19:15:49.593261",
     "exception": false,
     "start_time": "2022-05-26T19:15:49.560207",
     "status": "completed"
    },
    "tags": []
   },
   "source": [
    "# Python Crash Course"
   ]
  },
  {
   "cell_type": "markdown",
   "id": "8edafe61",
   "metadata": {
    "papermill": {
     "duration": 0.028717,
     "end_time": "2022-05-26T19:15:49.650969",
     "exception": false,
     "start_time": "2022-05-26T19:15:49.622252",
     "status": "completed"
    },
    "tags": []
   },
   "source": [
    "This notebook is just a code reference for the videos, no written explanations here\n",
    "\n",
    "This notebook will just go through the basic topics in order:\n",
    "\n",
    "Data types\n",
    "Numbers\n",
    "Strings\n",
    "Printing\n",
    "Lists\n",
    "Dictionaries\n",
    "Booleans\n",
    "Tuples\n",
    "Sets\n",
    "Comparison Operators\n",
    "if,elif, else Statements\n",
    "for Loops\n",
    "while Loops\n",
    "range()\n",
    "list comprehension\n",
    "functions\n",
    "lambda expressions\n",
    "map and filter\n",
    "methods\n"
   ]
  },
  {
   "cell_type": "markdown",
   "id": "632f3457",
   "metadata": {
    "papermill": {
     "duration": 0.028808,
     "end_time": "2022-05-26T19:15:49.708547",
     "exception": false,
     "start_time": "2022-05-26T19:15:49.679739",
     "status": "completed"
    },
    "tags": []
   },
   "source": [
    "# Data types\n",
    "Numbers\n"
   ]
  },
  {
   "cell_type": "code",
   "execution_count": 1,
   "id": "3d471c98",
   "metadata": {
    "execution": {
     "iopub.execute_input": "2022-05-26T19:15:49.769593Z",
     "iopub.status.busy": "2022-05-26T19:15:49.768853Z",
     "iopub.status.idle": "2022-05-26T19:15:49.782303Z",
     "shell.execute_reply": "2022-05-26T19:15:49.781593Z"
    },
    "papermill": {
     "duration": 0.046272,
     "end_time": "2022-05-26T19:15:49.784534",
     "exception": false,
     "start_time": "2022-05-26T19:15:49.738262",
     "status": "completed"
    },
    "tags": []
   },
   "outputs": [
    {
     "data": {
      "text/plain": [
       "2"
      ]
     },
     "execution_count": 1,
     "metadata": {},
     "output_type": "execute_result"
    }
   ],
   "source": [
    "1+1"
   ]
  },
  {
   "cell_type": "code",
   "execution_count": 2,
   "id": "34d26af8",
   "metadata": {
    "execution": {
     "iopub.execute_input": "2022-05-26T19:15:49.852453Z",
     "iopub.status.busy": "2022-05-26T19:15:49.851780Z",
     "iopub.status.idle": "2022-05-26T19:15:49.856808Z",
     "shell.execute_reply": "2022-05-26T19:15:49.856064Z"
    },
    "papermill": {
     "duration": 0.044479,
     "end_time": "2022-05-26T19:15:49.858597",
     "exception": false,
     "start_time": "2022-05-26T19:15:49.814118",
     "status": "completed"
    },
    "tags": []
   },
   "outputs": [
    {
     "data": {
      "text/plain": [
       "1.0"
      ]
     },
     "execution_count": 2,
     "metadata": {},
     "output_type": "execute_result"
    }
   ],
   "source": [
    "1/1"
   ]
  },
  {
   "cell_type": "code",
   "execution_count": 3,
   "id": "b061502f",
   "metadata": {
    "execution": {
     "iopub.execute_input": "2022-05-26T19:15:49.919911Z",
     "iopub.status.busy": "2022-05-26T19:15:49.919281Z",
     "iopub.status.idle": "2022-05-26T19:15:49.924271Z",
     "shell.execute_reply": "2022-05-26T19:15:49.923602Z"
    },
    "papermill": {
     "duration": 0.038214,
     "end_time": "2022-05-26T19:15:49.926064",
     "exception": false,
     "start_time": "2022-05-26T19:15:49.887850",
     "status": "completed"
    },
    "tags": []
   },
   "outputs": [
    {
     "data": {
      "text/plain": [
       "4"
      ]
     },
     "execution_count": 3,
     "metadata": {},
     "output_type": "execute_result"
    }
   ],
   "source": [
    "2*2"
   ]
  },
  {
   "cell_type": "code",
   "execution_count": 4,
   "id": "40d37f45",
   "metadata": {
    "execution": {
     "iopub.execute_input": "2022-05-26T19:15:49.988204Z",
     "iopub.status.busy": "2022-05-26T19:15:49.987575Z",
     "iopub.status.idle": "2022-05-26T19:15:49.992537Z",
     "shell.execute_reply": "2022-05-26T19:15:49.991855Z"
    },
    "papermill": {
     "duration": 0.038577,
     "end_time": "2022-05-26T19:15:49.994310",
     "exception": false,
     "start_time": "2022-05-26T19:15:49.955733",
     "status": "completed"
    },
    "tags": []
   },
   "outputs": [
    {
     "data": {
      "text/plain": [
       "16"
      ]
     },
     "execution_count": 4,
     "metadata": {},
     "output_type": "execute_result"
    }
   ],
   "source": [
    "2 ** 4"
   ]
  },
  {
   "cell_type": "code",
   "execution_count": 5,
   "id": "f877b27c",
   "metadata": {
    "execution": {
     "iopub.execute_input": "2022-05-26T19:15:50.055743Z",
     "iopub.status.busy": "2022-05-26T19:15:50.055085Z",
     "iopub.status.idle": "2022-05-26T19:15:50.060268Z",
     "shell.execute_reply": "2022-05-26T19:15:50.059606Z"
    },
    "papermill": {
     "duration": 0.038203,
     "end_time": "2022-05-26T19:15:50.062164",
     "exception": false,
     "start_time": "2022-05-26T19:15:50.023961",
     "status": "completed"
    },
    "tags": []
   },
   "outputs": [
    {
     "data": {
      "text/plain": [
       "0"
      ]
     },
     "execution_count": 5,
     "metadata": {},
     "output_type": "execute_result"
    }
   ],
   "source": [
    "4 % 2"
   ]
  },
  {
   "cell_type": "code",
   "execution_count": 6,
   "id": "d2a01886",
   "metadata": {
    "execution": {
     "iopub.execute_input": "2022-05-26T19:15:50.124730Z",
     "iopub.status.busy": "2022-05-26T19:15:50.124073Z",
     "iopub.status.idle": "2022-05-26T19:15:50.129107Z",
     "shell.execute_reply": "2022-05-26T19:15:50.128395Z"
    },
    "papermill": {
     "duration": 0.038848,
     "end_time": "2022-05-26T19:15:50.131072",
     "exception": false,
     "start_time": "2022-05-26T19:15:50.092224",
     "status": "completed"
    },
    "tags": []
   },
   "outputs": [
    {
     "data": {
      "text/plain": [
       "1"
      ]
     },
     "execution_count": 6,
     "metadata": {},
     "output_type": "execute_result"
    }
   ],
   "source": [
    "5 % 2"
   ]
  },
  {
   "cell_type": "code",
   "execution_count": 7,
   "id": "526e6d70",
   "metadata": {
    "execution": {
     "iopub.execute_input": "2022-05-26T19:15:50.194780Z",
     "iopub.status.busy": "2022-05-26T19:15:50.194112Z",
     "iopub.status.idle": "2022-05-26T19:15:50.199520Z",
     "shell.execute_reply": "2022-05-26T19:15:50.198852Z"
    },
    "papermill": {
     "duration": 0.039321,
     "end_time": "2022-05-26T19:15:50.201453",
     "exception": false,
     "start_time": "2022-05-26T19:15:50.162132",
     "status": "completed"
    },
    "tags": []
   },
   "outputs": [
    {
     "data": {
      "text/plain": [
       "50"
      ]
     },
     "execution_count": 7,
     "metadata": {},
     "output_type": "execute_result"
    }
   ],
   "source": [
    "(2 + 3) * (5 + 5)"
   ]
  },
  {
   "cell_type": "markdown",
   "id": "534aba07",
   "metadata": {
    "papermill": {
     "duration": 0.030701,
     "end_time": "2022-05-26T19:15:50.262976",
     "exception": false,
     "start_time": "2022-05-26T19:15:50.232275",
     "status": "completed"
    },
    "tags": []
   },
   "source": [
    "# Variable Assignment"
   ]
  },
  {
   "cell_type": "markdown",
   "id": "6011a022",
   "metadata": {
    "papermill": {
     "duration": 0.031132,
     "end_time": "2022-05-26T19:15:50.324930",
     "exception": false,
     "start_time": "2022-05-26T19:15:50.293798",
     "status": "completed"
    },
    "tags": []
   },
   "source": [
    " Can not start with number or special characters\n",
    "name_of_var = 2"
   ]
  },
  {
   "cell_type": "code",
   "execution_count": 8,
   "id": "3793c5cc",
   "metadata": {
    "execution": {
     "iopub.execute_input": "2022-05-26T19:15:50.388283Z",
     "iopub.status.busy": "2022-05-26T19:15:50.387680Z",
     "iopub.status.idle": "2022-05-26T19:15:50.391283Z",
     "shell.execute_reply": "2022-05-26T19:15:50.390600Z"
    },
    "papermill": {
     "duration": 0.037413,
     "end_time": "2022-05-26T19:15:50.393214",
     "exception": false,
     "start_time": "2022-05-26T19:15:50.355801",
     "status": "completed"
    },
    "tags": []
   },
   "outputs": [],
   "source": [
    "x = 2\n",
    "y = 3"
   ]
  },
  {
   "cell_type": "code",
   "execution_count": 9,
   "id": "7187aec8",
   "metadata": {
    "execution": {
     "iopub.execute_input": "2022-05-26T19:15:50.456734Z",
     "iopub.status.busy": "2022-05-26T19:15:50.456261Z",
     "iopub.status.idle": "2022-05-26T19:15:50.460243Z",
     "shell.execute_reply": "2022-05-26T19:15:50.459558Z"
    },
    "papermill": {
     "duration": 0.038069,
     "end_time": "2022-05-26T19:15:50.462002",
     "exception": false,
     "start_time": "2022-05-26T19:15:50.423933",
     "status": "completed"
    },
    "tags": []
   },
   "outputs": [],
   "source": [
    "z = x + y"
   ]
  },
  {
   "cell_type": "code",
   "execution_count": 10,
   "id": "5d20babc",
   "metadata": {
    "execution": {
     "iopub.execute_input": "2022-05-26T19:15:50.524853Z",
     "iopub.status.busy": "2022-05-26T19:15:50.524002Z",
     "iopub.status.idle": "2022-05-26T19:15:50.529163Z",
     "shell.execute_reply": "2022-05-26T19:15:50.528552Z"
    },
    "papermill": {
     "duration": 0.038644,
     "end_time": "2022-05-26T19:15:50.531094",
     "exception": false,
     "start_time": "2022-05-26T19:15:50.492450",
     "status": "completed"
    },
    "tags": []
   },
   "outputs": [
    {
     "data": {
      "text/plain": [
       "5"
      ]
     },
     "execution_count": 10,
     "metadata": {},
     "output_type": "execute_result"
    }
   ],
   "source": [
    "z"
   ]
  },
  {
   "cell_type": "markdown",
   "id": "6eb795be",
   "metadata": {
    "papermill": {
     "duration": 0.030161,
     "end_time": "2022-05-26T19:15:50.592044",
     "exception": false,
     "start_time": "2022-05-26T19:15:50.561883",
     "status": "completed"
    },
    "tags": []
   },
   "source": [
    "# Strings"
   ]
  },
  {
   "cell_type": "code",
   "execution_count": 11,
   "id": "26c452d5",
   "metadata": {
    "execution": {
     "iopub.execute_input": "2022-05-26T19:15:50.656014Z",
     "iopub.status.busy": "2022-05-26T19:15:50.654189Z",
     "iopub.status.idle": "2022-05-26T19:15:50.661171Z",
     "shell.execute_reply": "2022-05-26T19:15:50.660112Z"
    },
    "papermill": {
     "duration": 0.040584,
     "end_time": "2022-05-26T19:15:50.663162",
     "exception": false,
     "start_time": "2022-05-26T19:15:50.622578",
     "status": "completed"
    },
    "tags": []
   },
   "outputs": [
    {
     "data": {
      "text/plain": [
       "'single quotes'"
      ]
     },
     "execution_count": 11,
     "metadata": {},
     "output_type": "execute_result"
    }
   ],
   "source": [
    "'single quotes'"
   ]
  },
  {
   "cell_type": "code",
   "execution_count": 12,
   "id": "b10b0cf2",
   "metadata": {
    "execution": {
     "iopub.execute_input": "2022-05-26T19:15:50.727656Z",
     "iopub.status.busy": "2022-05-26T19:15:50.727001Z",
     "iopub.status.idle": "2022-05-26T19:15:50.731918Z",
     "shell.execute_reply": "2022-05-26T19:15:50.731187Z"
    },
    "papermill": {
     "duration": 0.039622,
     "end_time": "2022-05-26T19:15:50.733736",
     "exception": false,
     "start_time": "2022-05-26T19:15:50.694114",
     "status": "completed"
    },
    "tags": []
   },
   "outputs": [
    {
     "data": {
      "text/plain": [
       "'double quotes'"
      ]
     },
     "execution_count": 12,
     "metadata": {},
     "output_type": "execute_result"
    }
   ],
   "source": [
    "\"double quotes\""
   ]
  },
  {
   "cell_type": "code",
   "execution_count": 2,
   "id": "a4f30f67",
   "metadata": {
    "execution": {
     "iopub.execute_input": "2022-05-26T19:15:50.797764Z",
     "iopub.status.busy": "2022-05-26T19:15:50.797159Z",
     "iopub.status.idle": "2022-05-26T19:15:50.802486Z",
     "shell.execute_reply": "2022-05-26T19:15:50.801839Z"
    },
    "papermill": {
     "duration": 0.039997,
     "end_time": "2022-05-26T19:15:50.804565",
     "exception": false,
     "start_time": "2022-05-26T19:15:50.764568",
     "status": "completed"
    },
    "tags": []
   },
   "outputs": [
    {
     "data": {
      "text/plain": [
       "\" wrap lot's of other quotes\""
      ]
     },
     "execution_count": 2,
     "metadata": {},
     "output_type": "execute_result"
    }
   ],
   "source": [
    "\" wrap lot's of other quotes\""
   ]
  },
  {
   "cell_type": "markdown",
   "id": "c3559238",
   "metadata": {
    "papermill": {
     "duration": 0.030989,
     "end_time": "2022-05-26T19:15:50.867030",
     "exception": false,
     "start_time": "2022-05-26T19:15:50.836041",
     "status": "completed"
    },
    "tags": []
   },
   "source": [
    "# Printing"
   ]
  },
  {
   "cell_type": "code",
   "execution_count": 4,
   "id": "66f64f8f",
   "metadata": {
    "execution": {
     "iopub.execute_input": "2022-05-26T19:15:50.931901Z",
     "iopub.status.busy": "2022-05-26T19:15:50.931218Z",
     "iopub.status.idle": "2022-05-26T19:15:50.934934Z",
     "shell.execute_reply": "2022-05-26T19:15:50.934254Z"
    },
    "papermill": {
     "duration": 0.038716,
     "end_time": "2022-05-26T19:15:50.936970",
     "exception": false,
     "start_time": "2022-05-26T19:15:50.898254",
     "status": "completed"
    },
    "tags": []
   },
   "outputs": [],
   "source": [
    "x = 'Artificial Intelligence'"
   ]
  },
  {
   "cell_type": "code",
   "execution_count": 6,
   "id": "16827202",
   "metadata": {
    "execution": {
     "iopub.execute_input": "2022-05-26T19:15:51.001614Z",
     "iopub.status.busy": "2022-05-26T19:15:51.000538Z",
     "iopub.status.idle": "2022-05-26T19:15:51.006848Z",
     "shell.execute_reply": "2022-05-26T19:15:51.005781Z"
    },
    "papermill": {
     "duration": 0.040926,
     "end_time": "2022-05-26T19:15:51.009023",
     "exception": false,
     "start_time": "2022-05-26T19:15:50.968097",
     "status": "completed"
    },
    "tags": []
   },
   "outputs": [
    {
     "data": {
      "text/plain": [
       "'Artificial Intelligence'"
      ]
     },
     "execution_count": 6,
     "metadata": {},
     "output_type": "execute_result"
    }
   ],
   "source": [
    "x"
   ]
  },
  {
   "cell_type": "code",
   "execution_count": 16,
   "id": "7d9b2ebb",
   "metadata": {
    "execution": {
     "iopub.execute_input": "2022-05-26T19:15:51.075024Z",
     "iopub.status.busy": "2022-05-26T19:15:51.074613Z",
     "iopub.status.idle": "2022-05-26T19:15:51.079294Z",
     "shell.execute_reply": "2022-05-26T19:15:51.078379Z"
    },
    "papermill": {
     "duration": 0.039917,
     "end_time": "2022-05-26T19:15:51.081182",
     "exception": false,
     "start_time": "2022-05-26T19:15:51.041265",
     "status": "completed"
    },
    "tags": []
   },
   "outputs": [
    {
     "name": "stdout",
     "output_type": "stream",
     "text": [
      "Artificial Intelligence\n"
     ]
    }
   ],
   "source": [
    "print(x)"
   ]
  },
  {
   "cell_type": "code",
   "execution_count": 10,
   "id": "9de7a555",
   "metadata": {
    "execution": {
     "iopub.execute_input": "2022-05-26T19:15:51.145700Z",
     "iopub.status.busy": "2022-05-26T19:15:51.144676Z",
     "iopub.status.idle": "2022-05-26T19:15:51.150201Z",
     "shell.execute_reply": "2022-05-26T19:15:51.149153Z"
    },
    "papermill": {
     "duration": 0.039848,
     "end_time": "2022-05-26T19:15:51.152177",
     "exception": false,
     "start_time": "2022-05-26T19:15:51.112329",
     "status": "completed"
    },
    "tags": []
   },
   "outputs": [
    {
     "name": "stdout",
     "output_type": "stream",
     "text": [
      "Artificial Artificial Intelligence Intellignece\n"
     ]
    }
   ],
   "source": [
    "print(\"Artificial {} Intellignece\".format(x))"
   ]
  },
  {
   "cell_type": "code",
   "execution_count": 8,
   "id": "3fd91697",
   "metadata": {
    "execution": {
     "iopub.execute_input": "2022-05-26T19:15:51.217166Z",
     "iopub.status.busy": "2022-05-26T19:15:51.216556Z",
     "iopub.status.idle": "2022-05-26T19:15:51.220289Z",
     "shell.execute_reply": "2022-05-26T19:15:51.219631Z"
    },
    "papermill": {
     "duration": 0.038614,
     "end_time": "2022-05-26T19:15:51.222265",
     "exception": false,
     "start_time": "2022-05-26T19:15:51.183651",
     "status": "completed"
    },
    "tags": []
   },
   "outputs": [],
   "source": [
    "num = 12\n",
    "name = 'Sam'"
   ]
  },
  {
   "cell_type": "code",
   "execution_count": 19,
   "id": "7acba077",
   "metadata": {
    "execution": {
     "iopub.execute_input": "2022-05-26T19:15:51.287183Z",
     "iopub.status.busy": "2022-05-26T19:15:51.286743Z",
     "iopub.status.idle": "2022-05-26T19:15:51.292142Z",
     "shell.execute_reply": "2022-05-26T19:15:51.291076Z"
    },
    "papermill": {
     "duration": 0.040501,
     "end_time": "2022-05-26T19:15:51.294349",
     "exception": false,
     "start_time": "2022-05-26T19:15:51.253848",
     "status": "completed"
    },
    "tags": []
   },
   "outputs": [
    {
     "name": "stdout",
     "output_type": "stream",
     "text": [
      "My number is: 12, and my name is: Sam\n"
     ]
    }
   ],
   "source": [
    "print('My number is: {kl}, and my name is: {ml}'.format(kl=num,ml=name))"
   ]
  },
  {
   "cell_type": "code",
   "execution_count": 20,
   "id": "2ed6b85f",
   "metadata": {
    "execution": {
     "iopub.execute_input": "2022-05-26T19:15:51.360190Z",
     "iopub.status.busy": "2022-05-26T19:15:51.359527Z",
     "iopub.status.idle": "2022-05-26T19:15:51.364537Z",
     "shell.execute_reply": "2022-05-26T19:15:51.363347Z"
    },
    "papermill": {
     "duration": 0.041619,
     "end_time": "2022-05-26T19:15:51.367875",
     "exception": false,
     "start_time": "2022-05-26T19:15:51.326256",
     "status": "completed"
    },
    "tags": []
   },
   "outputs": [
    {
     "name": "stdout",
     "output_type": "stream",
     "text": [
      "My number is: 12, and my name is: Sam\n"
     ]
    }
   ],
   "source": [
    "print('My number is: {}, and my name is: {}'.format(num,name))"
   ]
  },
  {
   "cell_type": "code",
   "execution_count": 9,
   "id": "3592d4f6",
   "metadata": {},
   "outputs": [
    {
     "name": "stdout",
     "output_type": "stream",
     "text": [
      "My number is: 12, and my name is: Sam\n"
     ]
    }
   ],
   "source": [
    "print(f\"My number is: {num}, and my name is: {name}\")"
   ]
  },
  {
   "cell_type": "markdown",
   "id": "e6974e4a",
   "metadata": {
    "papermill": {
     "duration": 0.031533,
     "end_time": "2022-05-26T19:15:51.433094",
     "exception": false,
     "start_time": "2022-05-26T19:15:51.401561",
     "status": "completed"
    },
    "tags": []
   },
   "source": [
    "# Lists"
   ]
  },
  {
   "cell_type": "code",
   "execution_count": 21,
   "id": "35b87f63",
   "metadata": {
    "execution": {
     "iopub.execute_input": "2022-05-26T19:15:51.498682Z",
     "iopub.status.busy": "2022-05-26T19:15:51.498031Z",
     "iopub.status.idle": "2022-05-26T19:15:51.503326Z",
     "shell.execute_reply": "2022-05-26T19:15:51.502468Z"
    },
    "papermill": {
     "duration": 0.040327,
     "end_time": "2022-05-26T19:15:51.505261",
     "exception": false,
     "start_time": "2022-05-26T19:15:51.464934",
     "status": "completed"
    },
    "tags": []
   },
   "outputs": [
    {
     "data": {
      "text/plain": [
       "[1, 2, 3]"
      ]
     },
     "execution_count": 21,
     "metadata": {},
     "output_type": "execute_result"
    }
   ],
   "source": [
    "[1,2,3]"
   ]
  },
  {
   "cell_type": "code",
   "execution_count": 22,
   "id": "793399f2",
   "metadata": {
    "execution": {
     "iopub.execute_input": "2022-05-26T19:15:51.570892Z",
     "iopub.status.busy": "2022-05-26T19:15:51.570251Z",
     "iopub.status.idle": "2022-05-26T19:15:51.575568Z",
     "shell.execute_reply": "2022-05-26T19:15:51.574833Z"
    },
    "papermill": {
     "duration": 0.040357,
     "end_time": "2022-05-26T19:15:51.577336",
     "exception": false,
     "start_time": "2022-05-26T19:15:51.536979",
     "status": "completed"
    },
    "tags": []
   },
   "outputs": [
    {
     "data": {
      "text/plain": [
       "['hi', 1, [1, 2]]"
      ]
     },
     "execution_count": 22,
     "metadata": {},
     "output_type": "execute_result"
    }
   ],
   "source": [
    "['hi',1,[1,2]]"
   ]
  },
  {
   "cell_type": "code",
   "execution_count": 23,
   "id": "39216a53",
   "metadata": {
    "execution": {
     "iopub.execute_input": "2022-05-26T19:15:51.644086Z",
     "iopub.status.busy": "2022-05-26T19:15:51.643661Z",
     "iopub.status.idle": "2022-05-26T19:15:51.647853Z",
     "shell.execute_reply": "2022-05-26T19:15:51.647088Z"
    },
    "papermill": {
     "duration": 0.039423,
     "end_time": "2022-05-26T19:15:51.649618",
     "exception": false,
     "start_time": "2022-05-26T19:15:51.610195",
     "status": "completed"
    },
    "tags": []
   },
   "outputs": [],
   "source": [
    "my_list = ['a','b','c']"
   ]
  },
  {
   "cell_type": "code",
   "execution_count": 24,
   "id": "9624c03e",
   "metadata": {
    "execution": {
     "iopub.execute_input": "2022-05-26T19:15:51.716317Z",
     "iopub.status.busy": "2022-05-26T19:15:51.715366Z",
     "iopub.status.idle": "2022-05-26T19:15:51.720154Z",
     "shell.execute_reply": "2022-05-26T19:15:51.719277Z"
    },
    "papermill": {
     "duration": 0.040166,
     "end_time": "2022-05-26T19:15:51.722155",
     "exception": false,
     "start_time": "2022-05-26T19:15:51.681989",
     "status": "completed"
    },
    "tags": []
   },
   "outputs": [],
   "source": [
    "my_list.append('d')"
   ]
  },
  {
   "cell_type": "code",
   "execution_count": 25,
   "id": "daf412b4",
   "metadata": {
    "execution": {
     "iopub.execute_input": "2022-05-26T19:15:51.788923Z",
     "iopub.status.busy": "2022-05-26T19:15:51.787804Z",
     "iopub.status.idle": "2022-05-26T19:15:51.793790Z",
     "shell.execute_reply": "2022-05-26T19:15:51.793075Z"
    },
    "papermill": {
     "duration": 0.041361,
     "end_time": "2022-05-26T19:15:51.795737",
     "exception": false,
     "start_time": "2022-05-26T19:15:51.754376",
     "status": "completed"
    },
    "tags": []
   },
   "outputs": [
    {
     "data": {
      "text/plain": [
       "['a', 'b', 'c', 'd']"
      ]
     },
     "execution_count": 25,
     "metadata": {},
     "output_type": "execute_result"
    }
   ],
   "source": [
    "my_list"
   ]
  },
  {
   "cell_type": "code",
   "execution_count": 26,
   "id": "6b7f021d",
   "metadata": {
    "execution": {
     "iopub.execute_input": "2022-05-26T19:15:51.863602Z",
     "iopub.status.busy": "2022-05-26T19:15:51.862985Z",
     "iopub.status.idle": "2022-05-26T19:15:51.868178Z",
     "shell.execute_reply": "2022-05-26T19:15:51.867598Z"
    },
    "papermill": {
     "duration": 0.041139,
     "end_time": "2022-05-26T19:15:51.870249",
     "exception": false,
     "start_time": "2022-05-26T19:15:51.829110",
     "status": "completed"
    },
    "tags": []
   },
   "outputs": [
    {
     "data": {
      "text/plain": [
       "'a'"
      ]
     },
     "execution_count": 26,
     "metadata": {},
     "output_type": "execute_result"
    }
   ],
   "source": [
    "my_list[0]"
   ]
  },
  {
   "cell_type": "code",
   "execution_count": 27,
   "id": "f695ddaa",
   "metadata": {
    "execution": {
     "iopub.execute_input": "2022-05-26T19:15:51.938160Z",
     "iopub.status.busy": "2022-05-26T19:15:51.937581Z",
     "iopub.status.idle": "2022-05-26T19:15:51.942389Z",
     "shell.execute_reply": "2022-05-26T19:15:51.941714Z"
    },
    "papermill": {
     "duration": 0.040783,
     "end_time": "2022-05-26T19:15:51.944491",
     "exception": false,
     "start_time": "2022-05-26T19:15:51.903708",
     "status": "completed"
    },
    "tags": []
   },
   "outputs": [
    {
     "data": {
      "text/plain": [
       "'b'"
      ]
     },
     "execution_count": 27,
     "metadata": {},
     "output_type": "execute_result"
    }
   ],
   "source": [
    "my_list[1]"
   ]
  },
  {
   "cell_type": "code",
   "execution_count": 28,
   "id": "59f6ecf9",
   "metadata": {
    "execution": {
     "iopub.execute_input": "2022-05-26T19:15:52.014112Z",
     "iopub.status.busy": "2022-05-26T19:15:52.013504Z",
     "iopub.status.idle": "2022-05-26T19:15:52.018416Z",
     "shell.execute_reply": "2022-05-26T19:15:52.017847Z"
    },
    "papermill": {
     "duration": 0.042117,
     "end_time": "2022-05-26T19:15:52.020351",
     "exception": false,
     "start_time": "2022-05-26T19:15:51.978234",
     "status": "completed"
    },
    "tags": []
   },
   "outputs": [
    {
     "data": {
      "text/plain": [
       "['b', 'c', 'd']"
      ]
     },
     "execution_count": 28,
     "metadata": {},
     "output_type": "execute_result"
    }
   ],
   "source": [
    "my_list[:1]"
   ]
  },
  {
   "cell_type": "code",
   "execution_count": 29,
   "id": "2b4fbd45",
   "metadata": {
    "execution": {
     "iopub.execute_input": "2022-05-26T19:15:52.090037Z",
     "iopub.status.busy": "2022-05-26T19:15:52.089329Z",
     "iopub.status.idle": "2022-05-26T19:15:52.094830Z",
     "shell.execute_reply": "2022-05-26T19:15:52.093929Z"
    },
    "papermill": {
     "duration": 0.043324,
     "end_time": "2022-05-26T19:15:52.096745",
     "exception": false,
     "start_time": "2022-05-26T19:15:52.053421",
     "status": "completed"
    },
    "tags": []
   },
   "outputs": [
    {
     "data": {
      "text/plain": [
       "['a']"
      ]
     },
     "execution_count": 29,
     "metadata": {},
     "output_type": "execute_result"
    }
   ],
   "source": [
    "my_list[:1]"
   ]
  },
  {
   "cell_type": "code",
   "execution_count": 30,
   "id": "256d1070",
   "metadata": {
    "execution": {
     "iopub.execute_input": "2022-05-26T19:15:52.166373Z",
     "iopub.status.busy": "2022-05-26T19:15:52.165319Z",
     "iopub.status.idle": "2022-05-26T19:15:52.169375Z",
     "shell.execute_reply": "2022-05-26T19:15:52.168783Z"
    },
    "papermill": {
     "duration": 0.040312,
     "end_time": "2022-05-26T19:15:52.171253",
     "exception": false,
     "start_time": "2022-05-26T19:15:52.130941",
     "status": "completed"
    },
    "tags": []
   },
   "outputs": [],
   "source": [
    "my_list[0] = 'NEW'"
   ]
  },
  {
   "cell_type": "code",
   "execution_count": 31,
   "id": "2c250fa3",
   "metadata": {
    "execution": {
     "iopub.execute_input": "2022-05-26T19:15:52.240466Z",
     "iopub.status.busy": "2022-05-26T19:15:52.239404Z",
     "iopub.status.idle": "2022-05-26T19:15:52.245357Z",
     "shell.execute_reply": "2022-05-26T19:15:52.244706Z"
    },
    "papermill": {
     "duration": 0.042358,
     "end_time": "2022-05-26T19:15:52.247182",
     "exception": false,
     "start_time": "2022-05-26T19:15:52.204824",
     "status": "completed"
    },
    "tags": []
   },
   "outputs": [
    {
     "data": {
      "text/plain": [
       "['NEW', 'b', 'c', 'd']"
      ]
     },
     "execution_count": 31,
     "metadata": {},
     "output_type": "execute_result"
    }
   ],
   "source": [
    "my_list"
   ]
  },
  {
   "cell_type": "code",
   "execution_count": 32,
   "id": "cefe3573",
   "metadata": {
    "execution": {
     "iopub.execute_input": "2022-05-26T19:15:52.317008Z",
     "iopub.status.busy": "2022-05-26T19:15:52.316081Z",
     "iopub.status.idle": "2022-05-26T19:15:52.321084Z",
     "shell.execute_reply": "2022-05-26T19:15:52.320318Z"
    },
    "papermill": {
     "duration": 0.042255,
     "end_time": "2022-05-26T19:15:52.323123",
     "exception": false,
     "start_time": "2022-05-26T19:15:52.280868",
     "status": "completed"
    },
    "tags": []
   },
   "outputs": [],
   "source": [
    "nest = [1,2,3,[4,5,['target']]]"
   ]
  },
  {
   "cell_type": "code",
   "execution_count": 33,
   "id": "937b63d8",
   "metadata": {
    "execution": {
     "iopub.execute_input": "2022-05-26T19:15:52.394264Z",
     "iopub.status.busy": "2022-05-26T19:15:52.393259Z",
     "iopub.status.idle": "2022-05-26T19:15:52.399177Z",
     "shell.execute_reply": "2022-05-26T19:15:52.398545Z"
    },
    "papermill": {
     "duration": 0.043731,
     "end_time": "2022-05-26T19:15:52.400911",
     "exception": false,
     "start_time": "2022-05-26T19:15:52.357180",
     "status": "completed"
    },
    "tags": []
   },
   "outputs": [
    {
     "data": {
      "text/plain": [
       "[4, 5, ['target']]"
      ]
     },
     "execution_count": 33,
     "metadata": {},
     "output_type": "execute_result"
    }
   ],
   "source": [
    "nest[3]"
   ]
  },
  {
   "cell_type": "code",
   "execution_count": 34,
   "id": "7762736b",
   "metadata": {
    "execution": {
     "iopub.execute_input": "2022-05-26T19:15:52.471057Z",
     "iopub.status.busy": "2022-05-26T19:15:52.470094Z",
     "iopub.status.idle": "2022-05-26T19:15:52.475614Z",
     "shell.execute_reply": "2022-05-26T19:15:52.475006Z"
    },
    "papermill": {
     "duration": 0.042269,
     "end_time": "2022-05-26T19:15:52.477481",
     "exception": false,
     "start_time": "2022-05-26T19:15:52.435212",
     "status": "completed"
    },
    "tags": []
   },
   "outputs": [
    {
     "data": {
      "text/plain": [
       "['target']"
      ]
     },
     "execution_count": 34,
     "metadata": {},
     "output_type": "execute_result"
    }
   ],
   "source": [
    "nest[3][2][0]"
   ]
  },
  {
   "cell_type": "code",
   "execution_count": 35,
   "id": "d2167982",
   "metadata": {
    "execution": {
     "iopub.execute_input": "2022-05-26T19:15:52.547469Z",
     "iopub.status.busy": "2022-05-26T19:15:52.546500Z",
     "iopub.status.idle": "2022-05-26T19:15:52.552296Z",
     "shell.execute_reply": "2022-05-26T19:15:52.551394Z"
    },
    "papermill": {
     "duration": 0.042772,
     "end_time": "2022-05-26T19:15:52.554226",
     "exception": false,
     "start_time": "2022-05-26T19:15:52.511454",
     "status": "completed"
    },
    "tags": []
   },
   "outputs": [
    {
     "data": {
      "text/plain": [
       "'target'"
      ]
     },
     "execution_count": 35,
     "metadata": {},
     "output_type": "execute_result"
    }
   ],
   "source": [
    "nest[3][2][0]"
   ]
  },
  {
   "cell_type": "markdown",
   "id": "53ecb280",
   "metadata": {
    "papermill": {
     "duration": 0.033736,
     "end_time": "2022-05-26T19:15:52.621836",
     "exception": false,
     "start_time": "2022-05-26T19:15:52.588100",
     "status": "completed"
    },
    "tags": []
   },
   "source": [
    "# Dictionaries"
   ]
  },
  {
   "cell_type": "code",
   "execution_count": 12,
   "id": "6ed2ac8b",
   "metadata": {
    "execution": {
     "iopub.execute_input": "2022-05-26T19:15:52.693561Z",
     "iopub.status.busy": "2022-05-26T19:15:52.693138Z",
     "iopub.status.idle": "2022-05-26T19:15:52.697652Z",
     "shell.execute_reply": "2022-05-26T19:15:52.696671Z"
    },
    "papermill": {
     "duration": 0.042592,
     "end_time": "2022-05-26T19:15:52.699885",
     "exception": false,
     "start_time": "2022-05-26T19:15:52.657293",
     "status": "completed"
    },
    "tags": []
   },
   "outputs": [],
   "source": [
    "d = {'Prime Minister': 'Imran Khan', 'Country': 'Pakistan'}"
   ]
  },
  {
   "cell_type": "code",
   "execution_count": 14,
   "id": "d0998147",
   "metadata": {
    "execution": {
     "iopub.execute_input": "2022-05-26T19:15:52.772229Z",
     "iopub.status.busy": "2022-05-26T19:15:52.771570Z",
     "iopub.status.idle": "2022-05-26T19:15:52.777058Z",
     "shell.execute_reply": "2022-05-26T19:15:52.776377Z"
    },
    "papermill": {
     "duration": 0.043319,
     "end_time": "2022-05-26T19:15:52.778896",
     "exception": false,
     "start_time": "2022-05-26T19:15:52.735577",
     "status": "completed"
    },
    "tags": []
   },
   "outputs": [
    {
     "data": {
      "text/plain": [
       "'Pakistan'"
      ]
     },
     "execution_count": 14,
     "metadata": {},
     "output_type": "execute_result"
    }
   ],
   "source": [
    "d['Country']"
   ]
  },
  {
   "cell_type": "code",
   "execution_count": 38,
   "id": "40b2ea1c",
   "metadata": {
    "execution": {
     "iopub.execute_input": "2022-05-26T19:15:52.850348Z",
     "iopub.status.busy": "2022-05-26T19:15:52.849708Z",
     "iopub.status.idle": "2022-05-26T19:15:52.854843Z",
     "shell.execute_reply": "2022-05-26T19:15:52.854091Z"
    },
    "papermill": {
     "duration": 0.043437,
     "end_time": "2022-05-26T19:15:52.856860",
     "exception": false,
     "start_time": "2022-05-26T19:15:52.813423",
     "status": "completed"
    },
    "tags": []
   },
   "outputs": [
    {
     "data": {
      "text/plain": [
       "'item1'"
      ]
     },
     "execution_count": 38,
     "metadata": {},
     "output_type": "execute_result"
    }
   ],
   "source": [
    "d['key1']"
   ]
  },
  {
   "cell_type": "markdown",
   "id": "dbb39b16",
   "metadata": {
    "papermill": {
     "duration": 0.033956,
     "end_time": "2022-05-26T19:15:52.925859",
     "exception": false,
     "start_time": "2022-05-26T19:15:52.891903",
     "status": "completed"
    },
    "tags": []
   },
   "source": [
    "# Booleans\n",
    "\n",
    "a data type that has one of two possible values (usually denoted true and false) which is intended to represent the two truth values of logic and Boolean algebra"
   ]
  },
  {
   "cell_type": "code",
   "execution_count": 16,
   "id": "1f70fb6d",
   "metadata": {
    "execution": {
     "iopub.execute_input": "2022-05-26T19:15:52.996970Z",
     "iopub.status.busy": "2022-05-26T19:15:52.996334Z",
     "iopub.status.idle": "2022-05-26T19:15:53.001310Z",
     "shell.execute_reply": "2022-05-26T19:15:53.000638Z"
    },
    "papermill": {
     "duration": 0.043252,
     "end_time": "2022-05-26T19:15:53.003123",
     "exception": false,
     "start_time": "2022-05-26T19:15:52.959871",
     "status": "completed"
    },
    "tags": []
   },
   "outputs": [
    {
     "data": {
      "text/plain": [
       "True"
      ]
     },
     "execution_count": 16,
     "metadata": {},
     "output_type": "execute_result"
    }
   ],
   "source": [
    "'Imran' == 'Imran'"
   ]
  },
  {
   "cell_type": "code",
   "execution_count": 40,
   "id": "a321be85",
   "metadata": {
    "execution": {
     "iopub.execute_input": "2022-05-26T19:15:53.073778Z",
     "iopub.status.busy": "2022-05-26T19:15:53.073143Z",
     "iopub.status.idle": "2022-05-26T19:15:53.078480Z",
     "shell.execute_reply": "2022-05-26T19:15:53.077902Z"
    },
    "papermill": {
     "duration": 0.042556,
     "end_time": "2022-05-26T19:15:53.080204",
     "exception": false,
     "start_time": "2022-05-26T19:15:53.037648",
     "status": "completed"
    },
    "tags": []
   },
   "outputs": [
    {
     "data": {
      "text/plain": [
       "False"
      ]
     },
     "execution_count": 40,
     "metadata": {},
     "output_type": "execute_result"
    }
   ],
   "source": [
    "False"
   ]
  },
  {
   "cell_type": "markdown",
   "id": "b53b0001",
   "metadata": {
    "papermill": {
     "duration": 0.034205,
     "end_time": "2022-05-26T19:15:53.148952",
     "exception": false,
     "start_time": "2022-05-26T19:15:53.114747",
     "status": "completed"
    },
    "tags": []
   },
   "source": [
    "# Tuples"
   ]
  },
  {
   "cell_type": "code",
   "execution_count": 41,
   "id": "abcdbdfc",
   "metadata": {
    "execution": {
     "iopub.execute_input": "2022-05-26T19:15:53.222172Z",
     "iopub.status.busy": "2022-05-26T19:15:53.221534Z",
     "iopub.status.idle": "2022-05-26T19:15:53.225343Z",
     "shell.execute_reply": "2022-05-26T19:15:53.224664Z"
    },
    "papermill": {
     "duration": 0.044206,
     "end_time": "2022-05-26T19:15:53.227434",
     "exception": false,
     "start_time": "2022-05-26T19:15:53.183228",
     "status": "completed"
    },
    "tags": []
   },
   "outputs": [],
   "source": [
    "#Tuples are used to store multiple items in a single variable\n",
    "t = (1,2,3)"
   ]
  },
  {
   "cell_type": "code",
   "execution_count": 42,
   "id": "d612a978",
   "metadata": {
    "execution": {
     "iopub.execute_input": "2022-05-26T19:15:53.301380Z",
     "iopub.status.busy": "2022-05-26T19:15:53.300753Z",
     "iopub.status.idle": "2022-05-26T19:15:53.305754Z",
     "shell.execute_reply": "2022-05-26T19:15:53.305033Z"
    },
    "papermill": {
     "duration": 0.044169,
     "end_time": "2022-05-26T19:15:53.307590",
     "exception": false,
     "start_time": "2022-05-26T19:15:53.263421",
     "status": "completed"
    },
    "tags": []
   },
   "outputs": [
    {
     "data": {
      "text/plain": [
       "1"
      ]
     },
     "execution_count": 42,
     "metadata": {},
     "output_type": "execute_result"
    }
   ],
   "source": [
    "t[0]"
   ]
  },
  {
   "cell_type": "code",
   "execution_count": 43,
   "id": "d4619301",
   "metadata": {
    "execution": {
     "iopub.execute_input": "2022-05-26T19:15:53.380614Z",
     "iopub.status.busy": "2022-05-26T19:15:53.379957Z",
     "iopub.status.idle": "2022-05-26T19:15:53.383279Z",
     "shell.execute_reply": "2022-05-26T19:15:53.382678Z"
    },
    "papermill": {
     "duration": 0.041978,
     "end_time": "2022-05-26T19:15:53.385208",
     "exception": false,
     "start_time": "2022-05-26T19:15:53.343230",
     "status": "completed"
    },
    "tags": []
   },
   "outputs": [],
   "source": [
    "# t[0] = 'NEW'"
   ]
  },
  {
   "cell_type": "markdown",
   "id": "fc2ce44b",
   "metadata": {
    "papermill": {
     "duration": 0.099201,
     "end_time": "2022-05-26T19:15:53.520682",
     "exception": false,
     "start_time": "2022-05-26T19:15:53.421481",
     "status": "completed"
    },
    "tags": []
   },
   "source": [
    "# Sets"
   ]
  },
  {
   "cell_type": "code",
   "execution_count": 44,
   "id": "a0887d33",
   "metadata": {
    "execution": {
     "iopub.execute_input": "2022-05-26T19:15:53.592456Z",
     "iopub.status.busy": "2022-05-26T19:15:53.591844Z",
     "iopub.status.idle": "2022-05-26T19:15:53.597093Z",
     "shell.execute_reply": "2022-05-26T19:15:53.596437Z"
    },
    "papermill": {
     "duration": 0.043238,
     "end_time": "2022-05-26T19:15:53.598903",
     "exception": false,
     "start_time": "2022-05-26T19:15:53.555665",
     "status": "completed"
    },
    "tags": []
   },
   "outputs": [
    {
     "data": {
      "text/plain": [
       "{1, 2, 3}"
      ]
     },
     "execution_count": 44,
     "metadata": {},
     "output_type": "execute_result"
    }
   ],
   "source": [
    "{1,2,3}"
   ]
  },
  {
   "cell_type": "code",
   "execution_count": 45,
   "id": "f45e96d4",
   "metadata": {
    "execution": {
     "iopub.execute_input": "2022-05-26T19:15:53.672048Z",
     "iopub.status.busy": "2022-05-26T19:15:53.671383Z",
     "iopub.status.idle": "2022-05-26T19:15:53.677819Z",
     "shell.execute_reply": "2022-05-26T19:15:53.676756Z"
    },
    "papermill": {
     "duration": 0.045016,
     "end_time": "2022-05-26T19:15:53.679881",
     "exception": false,
     "start_time": "2022-05-26T19:15:53.634865",
     "status": "completed"
    },
    "tags": []
   },
   "outputs": [
    {
     "data": {
      "text/plain": [
       "{1, 2, 3}"
      ]
     },
     "execution_count": 45,
     "metadata": {},
     "output_type": "execute_result"
    }
   ],
   "source": [
    "{1,2,3,1,2,1,2,3,3,3,3,2,2,2,1,1,2}"
   ]
  },
  {
   "cell_type": "markdown",
   "id": "61c8cca3",
   "metadata": {
    "papermill": {
     "duration": 0.036828,
     "end_time": "2022-05-26T19:15:53.752761",
     "exception": false,
     "start_time": "2022-05-26T19:15:53.715933",
     "status": "completed"
    },
    "tags": []
   },
   "source": [
    "# Comparison Operators"
   ]
  },
  {
   "cell_type": "code",
   "execution_count": 46,
   "id": "4e59d19d",
   "metadata": {
    "execution": {
     "iopub.execute_input": "2022-05-26T19:15:53.825779Z",
     "iopub.status.busy": "2022-05-26T19:15:53.825125Z",
     "iopub.status.idle": "2022-05-26T19:15:53.830186Z",
     "shell.execute_reply": "2022-05-26T19:15:53.829483Z"
    },
    "papermill": {
     "duration": 0.043694,
     "end_time": "2022-05-26T19:15:53.831925",
     "exception": false,
     "start_time": "2022-05-26T19:15:53.788231",
     "status": "completed"
    },
    "tags": []
   },
   "outputs": [
    {
     "data": {
      "text/plain": [
       "False"
      ]
     },
     "execution_count": 46,
     "metadata": {},
     "output_type": "execute_result"
    }
   ],
   "source": [
    "1 > 2"
   ]
  },
  {
   "cell_type": "code",
   "execution_count": 47,
   "id": "f8ab7a41",
   "metadata": {
    "execution": {
     "iopub.execute_input": "2022-05-26T19:15:53.905412Z",
     "iopub.status.busy": "2022-05-26T19:15:53.904784Z",
     "iopub.status.idle": "2022-05-26T19:15:53.910036Z",
     "shell.execute_reply": "2022-05-26T19:15:53.909382Z"
    },
    "papermill": {
     "duration": 0.044133,
     "end_time": "2022-05-26T19:15:53.911885",
     "exception": false,
     "start_time": "2022-05-26T19:15:53.867752",
     "status": "completed"
    },
    "tags": []
   },
   "outputs": [
    {
     "data": {
      "text/plain": [
       "True"
      ]
     },
     "execution_count": 47,
     "metadata": {},
     "output_type": "execute_result"
    }
   ],
   "source": [
    "1 < 2"
   ]
  },
  {
   "cell_type": "code",
   "execution_count": 48,
   "id": "5d803fb7",
   "metadata": {
    "execution": {
     "iopub.execute_input": "2022-05-26T19:15:53.987123Z",
     "iopub.status.busy": "2022-05-26T19:15:53.986489Z",
     "iopub.status.idle": "2022-05-26T19:15:53.991444Z",
     "shell.execute_reply": "2022-05-26T19:15:53.990662Z"
    },
    "papermill": {
     "duration": 0.044343,
     "end_time": "2022-05-26T19:15:53.993299",
     "exception": false,
     "start_time": "2022-05-26T19:15:53.948956",
     "status": "completed"
    },
    "tags": []
   },
   "outputs": [
    {
     "data": {
      "text/plain": [
       "True"
      ]
     },
     "execution_count": 48,
     "metadata": {},
     "output_type": "execute_result"
    }
   ],
   "source": [
    "1 >= 1"
   ]
  },
  {
   "cell_type": "code",
   "execution_count": 49,
   "id": "f28b991e",
   "metadata": {
    "execution": {
     "iopub.execute_input": "2022-05-26T19:15:54.067809Z",
     "iopub.status.busy": "2022-05-26T19:15:54.067166Z",
     "iopub.status.idle": "2022-05-26T19:15:54.072427Z",
     "shell.execute_reply": "2022-05-26T19:15:54.071629Z"
    },
    "papermill": {
     "duration": 0.045125,
     "end_time": "2022-05-26T19:15:54.074437",
     "exception": false,
     "start_time": "2022-05-26T19:15:54.029312",
     "status": "completed"
    },
    "tags": []
   },
   "outputs": [
    {
     "data": {
      "text/plain": [
       "True"
      ]
     },
     "execution_count": 49,
     "metadata": {},
     "output_type": "execute_result"
    }
   ],
   "source": [
    "1 <= 4"
   ]
  },
  {
   "cell_type": "code",
   "execution_count": 50,
   "id": "44a62600",
   "metadata": {
    "execution": {
     "iopub.execute_input": "2022-05-26T19:15:54.150081Z",
     "iopub.status.busy": "2022-05-26T19:15:54.149664Z",
     "iopub.status.idle": "2022-05-26T19:15:54.156769Z",
     "shell.execute_reply": "2022-05-26T19:15:54.155689Z"
    },
    "papermill": {
     "duration": 0.047771,
     "end_time": "2022-05-26T19:15:54.158741",
     "exception": false,
     "start_time": "2022-05-26T19:15:54.110970",
     "status": "completed"
    },
    "tags": []
   },
   "outputs": [
    {
     "data": {
      "text/plain": [
       "True"
      ]
     },
     "execution_count": 50,
     "metadata": {},
     "output_type": "execute_result"
    }
   ],
   "source": [
    "1 == 1"
   ]
  },
  {
   "cell_type": "code",
   "execution_count": 51,
   "id": "237230df",
   "metadata": {
    "execution": {
     "iopub.execute_input": "2022-05-26T19:15:54.235259Z",
     "iopub.status.busy": "2022-05-26T19:15:54.234301Z",
     "iopub.status.idle": "2022-05-26T19:15:54.240610Z",
     "shell.execute_reply": "2022-05-26T19:15:54.239727Z"
    },
    "papermill": {
     "duration": 0.04735,
     "end_time": "2022-05-26T19:15:54.242634",
     "exception": false,
     "start_time": "2022-05-26T19:15:54.195284",
     "status": "completed"
    },
    "tags": []
   },
   "outputs": [
    {
     "data": {
      "text/plain": [
       "False"
      ]
     },
     "execution_count": 51,
     "metadata": {},
     "output_type": "execute_result"
    }
   ],
   "source": [
    "'hi' == 'bye'"
   ]
  },
  {
   "cell_type": "markdown",
   "id": "6d6f3861",
   "metadata": {
    "papermill": {
     "duration": 0.036123,
     "end_time": "2022-05-26T19:15:54.316723",
     "exception": false,
     "start_time": "2022-05-26T19:15:54.280600",
     "status": "completed"
    },
    "tags": []
   },
   "source": [
    "\n",
    "# Logic Operators"
   ]
  },
  {
   "cell_type": "code",
   "execution_count": 20,
   "id": "17c58343",
   "metadata": {
    "execution": {
     "iopub.execute_input": "2022-05-26T19:15:54.391970Z",
     "iopub.status.busy": "2022-05-26T19:15:54.391321Z",
     "iopub.status.idle": "2022-05-26T19:15:54.397797Z",
     "shell.execute_reply": "2022-05-26T19:15:54.396936Z"
    },
    "papermill": {
     "duration": 0.046337,
     "end_time": "2022-05-26T19:15:54.399712",
     "exception": false,
     "start_time": "2022-05-26T19:15:54.353375",
     "status": "completed"
    },
    "tags": []
   },
   "outputs": [
    {
     "data": {
      "text/plain": [
       "False"
      ]
     },
     "execution_count": 20,
     "metadata": {},
     "output_type": "execute_result"
    }
   ],
   "source": [
    "False and True"
   ]
  },
  {
   "cell_type": "code",
   "execution_count": 53,
   "id": "145b1a64",
   "metadata": {
    "execution": {
     "iopub.execute_input": "2022-05-26T19:15:54.475487Z",
     "iopub.status.busy": "2022-05-26T19:15:54.474603Z",
     "iopub.status.idle": "2022-05-26T19:15:54.481362Z",
     "shell.execute_reply": "2022-05-26T19:15:54.480500Z"
    },
    "papermill": {
     "duration": 0.046792,
     "end_time": "2022-05-26T19:15:54.483350",
     "exception": false,
     "start_time": "2022-05-26T19:15:54.436558",
     "status": "completed"
    },
    "tags": []
   },
   "outputs": [
    {
     "data": {
      "text/plain": [
       "True"
      ]
     },
     "execution_count": 53,
     "metadata": {},
     "output_type": "execute_result"
    }
   ],
   "source": [
    "(1 > 2) or (2 < 3)"
   ]
  },
  {
   "cell_type": "code",
   "execution_count": 54,
   "id": "84522b59",
   "metadata": {
    "execution": {
     "iopub.execute_input": "2022-05-26T19:15:54.559888Z",
     "iopub.status.busy": "2022-05-26T19:15:54.559266Z",
     "iopub.status.idle": "2022-05-26T19:15:54.564896Z",
     "shell.execute_reply": "2022-05-26T19:15:54.563956Z"
    },
    "papermill": {
     "duration": 0.046102,
     "end_time": "2022-05-26T19:15:54.566800",
     "exception": false,
     "start_time": "2022-05-26T19:15:54.520698",
     "status": "completed"
    },
    "tags": []
   },
   "outputs": [
    {
     "data": {
      "text/plain": [
       "True"
      ]
     },
     "execution_count": 54,
     "metadata": {},
     "output_type": "execute_result"
    }
   ],
   "source": [
    "(1 == 2) or (2 == 3) or (4 == 4)"
   ]
  },
  {
   "cell_type": "markdown",
   "id": "b40addb3",
   "metadata": {
    "papermill": {
     "duration": 0.038935,
     "end_time": "2022-05-26T19:15:54.644562",
     "exception": false,
     "start_time": "2022-05-26T19:15:54.605627",
     "status": "completed"
    },
    "tags": []
   },
   "source": [
    "# if,elif, else Statements"
   ]
  },
  {
   "cell_type": "code",
   "execution_count": 55,
   "id": "8c31cbc2",
   "metadata": {
    "execution": {
     "iopub.execute_input": "2022-05-26T19:15:54.721604Z",
     "iopub.status.busy": "2022-05-26T19:15:54.720991Z",
     "iopub.status.idle": "2022-05-26T19:15:54.725741Z",
     "shell.execute_reply": "2022-05-26T19:15:54.724688Z"
    },
    "papermill": {
     "duration": 0.046064,
     "end_time": "2022-05-26T19:15:54.728250",
     "exception": false,
     "start_time": "2022-05-26T19:15:54.682186",
     "status": "completed"
    },
    "tags": []
   },
   "outputs": [
    {
     "name": "stdout",
     "output_type": "stream",
     "text": [
      "Yep!\n"
     ]
    }
   ],
   "source": [
    "if 1 < 2:\n",
    "    print('Yep!')"
   ]
  },
  {
   "cell_type": "code",
   "execution_count": 56,
   "id": "bce8235d",
   "metadata": {
    "execution": {
     "iopub.execute_input": "2022-05-26T19:15:54.808108Z",
     "iopub.status.busy": "2022-05-26T19:15:54.807260Z",
     "iopub.status.idle": "2022-05-26T19:15:54.812600Z",
     "shell.execute_reply": "2022-05-26T19:15:54.811174Z"
    },
    "papermill": {
     "duration": 0.046659,
     "end_time": "2022-05-26T19:15:54.814490",
     "exception": false,
     "start_time": "2022-05-26T19:15:54.767831",
     "status": "completed"
    },
    "tags": []
   },
   "outputs": [
    {
     "name": "stdout",
     "output_type": "stream",
     "text": [
      "yep!\n"
     ]
    }
   ],
   "source": [
    "if 1 < 2:\n",
    "    print('yep!')"
   ]
  },
  {
   "cell_type": "code",
   "execution_count": 57,
   "id": "e7179daa",
   "metadata": {
    "execution": {
     "iopub.execute_input": "2022-05-26T19:15:54.892230Z",
     "iopub.status.busy": "2022-05-26T19:15:54.891273Z",
     "iopub.status.idle": "2022-05-26T19:15:54.897234Z",
     "shell.execute_reply": "2022-05-26T19:15:54.896220Z"
    },
    "papermill": {
     "duration": 0.047762,
     "end_time": "2022-05-26T19:15:54.899713",
     "exception": false,
     "start_time": "2022-05-26T19:15:54.851951",
     "status": "completed"
    },
    "tags": []
   },
   "outputs": [
    {
     "name": "stdout",
     "output_type": "stream",
     "text": [
      "first\n"
     ]
    }
   ],
   "source": [
    "if 1 < 2:\n",
    "    print('first')\n",
    "else:\n",
    "    print('last')"
   ]
  },
  {
   "cell_type": "code",
   "execution_count": 58,
   "id": "48a4aeb0",
   "metadata": {
    "execution": {
     "iopub.execute_input": "2022-05-26T19:15:54.977950Z",
     "iopub.status.busy": "2022-05-26T19:15:54.977503Z",
     "iopub.status.idle": "2022-05-26T19:15:54.983035Z",
     "shell.execute_reply": "2022-05-26T19:15:54.981928Z"
    },
    "papermill": {
     "duration": 0.047395,
     "end_time": "2022-05-26T19:15:54.985383",
     "exception": false,
     "start_time": "2022-05-26T19:15:54.937988",
     "status": "completed"
    },
    "tags": []
   },
   "outputs": [
    {
     "name": "stdout",
     "output_type": "stream",
     "text": [
      "last\n"
     ]
    }
   ],
   "source": [
    "if 1 > 2:\n",
    "    print('first')\n",
    "else:\n",
    "    print('last')"
   ]
  },
  {
   "cell_type": "code",
   "execution_count": 59,
   "id": "9f30673b",
   "metadata": {
    "execution": {
     "iopub.execute_input": "2022-05-26T19:15:55.064078Z",
     "iopub.status.busy": "2022-05-26T19:15:55.063186Z",
     "iopub.status.idle": "2022-05-26T19:15:55.068998Z",
     "shell.execute_reply": "2022-05-26T19:15:55.067684Z"
    },
    "papermill": {
     "duration": 0.04706,
     "end_time": "2022-05-26T19:15:55.070989",
     "exception": false,
     "start_time": "2022-05-26T19:15:55.023929",
     "status": "completed"
    },
    "tags": []
   },
   "outputs": [
    {
     "name": "stdout",
     "output_type": "stream",
     "text": [
      "middle\n"
     ]
    }
   ],
   "source": [
    "if 1 == 2:\n",
    "    print('first')\n",
    "elif 3 == 3:\n",
    "    print('middle')\n",
    "else:\n",
    "    print('Last')"
   ]
  },
  {
   "cell_type": "markdown",
   "id": "0ed7878c",
   "metadata": {
    "papermill": {
     "duration": 0.0376,
     "end_time": "2022-05-26T19:15:55.148327",
     "exception": false,
     "start_time": "2022-05-26T19:15:55.110727",
     "status": "completed"
    },
    "tags": []
   },
   "source": [
    "# for Loops"
   ]
  },
  {
   "cell_type": "code",
   "execution_count": 60,
   "id": "713b2bed",
   "metadata": {
    "execution": {
     "iopub.execute_input": "2022-05-26T19:15:55.226047Z",
     "iopub.status.busy": "2022-05-26T19:15:55.225647Z",
     "iopub.status.idle": "2022-05-26T19:15:55.229919Z",
     "shell.execute_reply": "2022-05-26T19:15:55.229003Z"
    },
    "papermill": {
     "duration": 0.046145,
     "end_time": "2022-05-26T19:15:55.232074",
     "exception": false,
     "start_time": "2022-05-26T19:15:55.185929",
     "status": "completed"
    },
    "tags": []
   },
   "outputs": [],
   "source": [
    "seq = [1,2,3,4,5]"
   ]
  },
  {
   "cell_type": "code",
   "execution_count": 61,
   "id": "ee99d013",
   "metadata": {
    "execution": {
     "iopub.execute_input": "2022-05-26T19:15:55.311174Z",
     "iopub.status.busy": "2022-05-26T19:15:55.310789Z",
     "iopub.status.idle": "2022-05-26T19:15:55.315294Z",
     "shell.execute_reply": "2022-05-26T19:15:55.314495Z"
    },
    "papermill": {
     "duration": 0.046718,
     "end_time": "2022-05-26T19:15:55.317491",
     "exception": false,
     "start_time": "2022-05-26T19:15:55.270773",
     "status": "completed"
    },
    "tags": []
   },
   "outputs": [
    {
     "name": "stdout",
     "output_type": "stream",
     "text": [
      "1\n",
      "2\n",
      "3\n",
      "4\n",
      "5\n"
     ]
    }
   ],
   "source": [
    "for item in seq:\n",
    "    print(item)"
   ]
  },
  {
   "cell_type": "code",
   "execution_count": 62,
   "id": "38193786",
   "metadata": {
    "execution": {
     "iopub.execute_input": "2022-05-26T19:15:55.396613Z",
     "iopub.status.busy": "2022-05-26T19:15:55.396211Z",
     "iopub.status.idle": "2022-05-26T19:15:55.400684Z",
     "shell.execute_reply": "2022-05-26T19:15:55.399920Z"
    },
    "papermill": {
     "duration": 0.046847,
     "end_time": "2022-05-26T19:15:55.402466",
     "exception": false,
     "start_time": "2022-05-26T19:15:55.355619",
     "status": "completed"
    },
    "tags": []
   },
   "outputs": [
    {
     "name": "stdout",
     "output_type": "stream",
     "text": [
      "Yep\n",
      "Yep\n",
      "Yep\n",
      "Yep\n",
      "Yep\n"
     ]
    }
   ],
   "source": [
    "for item in seq:\n",
    "    print('Yep')"
   ]
  },
  {
   "cell_type": "code",
   "execution_count": 63,
   "id": "450c270f",
   "metadata": {
    "execution": {
     "iopub.execute_input": "2022-05-26T19:15:55.481678Z",
     "iopub.status.busy": "2022-05-26T19:15:55.481003Z",
     "iopub.status.idle": "2022-05-26T19:15:55.485839Z",
     "shell.execute_reply": "2022-05-26T19:15:55.484865Z"
    },
    "papermill": {
     "duration": 0.046797,
     "end_time": "2022-05-26T19:15:55.487975",
     "exception": false,
     "start_time": "2022-05-26T19:15:55.441178",
     "status": "completed"
    },
    "tags": []
   },
   "outputs": [
    {
     "name": "stdout",
     "output_type": "stream",
     "text": [
      "2\n",
      "4\n",
      "6\n",
      "8\n",
      "10\n"
     ]
    }
   ],
   "source": [
    "for jelly in seq:\n",
    "    print(jelly+jelly)"
   ]
  },
  {
   "cell_type": "markdown",
   "id": "aeab5fda",
   "metadata": {
    "papermill": {
     "duration": 0.037965,
     "end_time": "2022-05-26T19:15:55.564696",
     "exception": false,
     "start_time": "2022-05-26T19:15:55.526731",
     "status": "completed"
    },
    "tags": []
   },
   "source": [
    "# while Loops"
   ]
  },
  {
   "cell_type": "code",
   "execution_count": 64,
   "id": "78506c1a",
   "metadata": {
    "execution": {
     "iopub.execute_input": "2022-05-26T19:15:55.643148Z",
     "iopub.status.busy": "2022-05-26T19:15:55.642391Z",
     "iopub.status.idle": "2022-05-26T19:15:55.647504Z",
     "shell.execute_reply": "2022-05-26T19:15:55.646620Z"
    },
    "papermill": {
     "duration": 0.046847,
     "end_time": "2022-05-26T19:15:55.649676",
     "exception": false,
     "start_time": "2022-05-26T19:15:55.602829",
     "status": "completed"
    },
    "tags": []
   },
   "outputs": [
    {
     "name": "stdout",
     "output_type": "stream",
     "text": [
      "i is: 1\n",
      "i is: 2\n",
      "i is: 3\n",
      "i is: 4\n"
     ]
    }
   ],
   "source": [
    "i = 1\n",
    "while i < 5:\n",
    "    print('i is: {}'.format(i))\n",
    "    i = i+1"
   ]
  },
  {
   "cell_type": "code",
   "execution_count": 65,
   "id": "eb253295",
   "metadata": {
    "execution": {
     "iopub.execute_input": "2022-05-26T19:15:55.729492Z",
     "iopub.status.busy": "2022-05-26T19:15:55.728850Z",
     "iopub.status.idle": "2022-05-26T19:15:55.734182Z",
     "shell.execute_reply": "2022-05-26T19:15:55.733153Z"
    },
    "papermill": {
     "duration": 0.047902,
     "end_time": "2022-05-26T19:15:55.736212",
     "exception": false,
     "start_time": "2022-05-26T19:15:55.688310",
     "status": "completed"
    },
    "tags": []
   },
   "outputs": [
    {
     "data": {
      "text/plain": [
       "range(0, 5)"
      ]
     },
     "execution_count": 65,
     "metadata": {},
     "output_type": "execute_result"
    }
   ],
   "source": [
    "#range()\n",
    "range(5)"
   ]
  },
  {
   "cell_type": "code",
   "execution_count": 66,
   "id": "1fe26beb",
   "metadata": {
    "execution": {
     "iopub.execute_input": "2022-05-26T19:15:55.816840Z",
     "iopub.status.busy": "2022-05-26T19:15:55.816398Z",
     "iopub.status.idle": "2022-05-26T19:15:55.821391Z",
     "shell.execute_reply": "2022-05-26T19:15:55.820499Z"
    },
    "papermill": {
     "duration": 0.047253,
     "end_time": "2022-05-26T19:15:55.823335",
     "exception": false,
     "start_time": "2022-05-26T19:15:55.776082",
     "status": "completed"
    },
    "tags": []
   },
   "outputs": [
    {
     "name": "stdout",
     "output_type": "stream",
     "text": [
      "0\n",
      "1\n",
      "2\n",
      "3\n",
      "4\n"
     ]
    }
   ],
   "source": [
    "for i in range(5):\n",
    "    print(i)"
   ]
  },
  {
   "cell_type": "code",
   "execution_count": 68,
   "id": "ec4c5f4b",
   "metadata": {
    "execution": {
     "iopub.execute_input": "2022-05-26T19:15:55.993333Z",
     "iopub.status.busy": "2022-05-26T19:15:55.992370Z",
     "iopub.status.idle": "2022-05-26T19:15:55.996830Z",
     "shell.execute_reply": "2022-05-26T19:15:55.996165Z"
    },
    "papermill": {
     "duration": 0.04734,
     "end_time": "2022-05-26T19:15:55.998690",
     "exception": false,
     "start_time": "2022-05-26T19:15:55.951350",
     "status": "completed"
    },
    "tags": []
   },
   "outputs": [],
   "source": [
    "x = [1,2,3,4]"
   ]
  },
  {
   "cell_type": "code",
   "execution_count": 69,
   "id": "65b812bf",
   "metadata": {
    "execution": {
     "iopub.execute_input": "2022-05-26T19:15:56.079587Z",
     "iopub.status.busy": "2022-05-26T19:15:56.078693Z",
     "iopub.status.idle": "2022-05-26T19:15:56.084203Z",
     "shell.execute_reply": "2022-05-26T19:15:56.083162Z"
    },
    "papermill": {
     "duration": 0.049843,
     "end_time": "2022-05-26T19:15:56.087797",
     "exception": false,
     "start_time": "2022-05-26T19:15:56.037954",
     "status": "completed"
    },
    "tags": []
   },
   "outputs": [
    {
     "name": "stdout",
     "output_type": "stream",
     "text": [
      "[2, 4, 6, 8]\n"
     ]
    }
   ],
   "source": [
    "out = []\n",
    "for item in x:\n",
    "    out.append(item*2)\n",
    "print(out)"
   ]
  },
  {
   "cell_type": "code",
   "execution_count": 70,
   "id": "08fab321",
   "metadata": {
    "execution": {
     "iopub.execute_input": "2022-05-26T19:15:56.171869Z",
     "iopub.status.busy": "2022-05-26T19:15:56.171398Z",
     "iopub.status.idle": "2022-05-26T19:15:56.177047Z",
     "shell.execute_reply": "2022-05-26T19:15:56.176273Z"
    },
    "papermill": {
     "duration": 0.049151,
     "end_time": "2022-05-26T19:15:56.179031",
     "exception": false,
     "start_time": "2022-05-26T19:15:56.129880",
     "status": "completed"
    },
    "tags": []
   },
   "outputs": [
    {
     "data": {
      "text/plain": [
       "[1, 4, 9, 16]"
      ]
     },
     "execution_count": 70,
     "metadata": {},
     "output_type": "execute_result"
    }
   ],
   "source": [
    "[item**2 for item in x]"
   ]
  },
  {
   "cell_type": "markdown",
   "id": "9d40d123",
   "metadata": {
    "papermill": {
     "duration": 0.039259,
     "end_time": "2022-05-26T19:15:56.258064",
     "exception": false,
     "start_time": "2022-05-26T19:15:56.218805",
     "status": "completed"
    },
    "tags": []
   },
   "source": [
    "# functions"
   ]
  },
  {
   "cell_type": "code",
   "execution_count": 27,
   "id": "4b86adb1",
   "metadata": {
    "execution": {
     "iopub.execute_input": "2022-05-26T19:15:56.339374Z",
     "iopub.status.busy": "2022-05-26T19:15:56.338253Z",
     "iopub.status.idle": "2022-05-26T19:15:56.344186Z",
     "shell.execute_reply": "2022-05-26T19:15:56.343111Z"
    },
    "papermill": {
     "duration": 0.048775,
     "end_time": "2022-05-26T19:15:56.346364",
     "exception": false,
     "start_time": "2022-05-26T19:15:56.297589",
     "status": "completed"
    },
    "tags": []
   },
   "outputs": [],
   "source": [
    "def youthube(video):\n",
    "    \"\"\"\n",
    "    This is a YouTube Function.\n",
    "    \"\"\"\n",
    "    print(video)"
   ]
  },
  {
   "cell_type": "code",
   "execution_count": 29,
   "id": "c2cb3b13",
   "metadata": {
    "execution": {
     "iopub.execute_input": "2022-05-26T19:15:56.431719Z",
     "iopub.status.busy": "2022-05-26T19:15:56.431128Z",
     "iopub.status.idle": "2022-05-26T19:15:56.437247Z",
     "shell.execute_reply": "2022-05-26T19:15:56.436216Z"
    },
    "papermill": {
     "duration": 0.049916,
     "end_time": "2022-05-26T19:15:56.439602",
     "exception": false,
     "start_time": "2022-05-26T19:15:56.389686",
     "status": "completed"
    },
    "tags": []
   },
   "outputs": [
    {
     "name": "stdout",
     "output_type": "stream",
     "text": [
      "data analysis\n"
     ]
    }
   ],
   "source": [
    "youthube(video='data analysis')"
   ]
  },
  {
   "cell_type": "code",
   "execution_count": 73,
   "id": "756a95cd",
   "metadata": {
    "execution": {
     "iopub.execute_input": "2022-05-26T19:15:56.522300Z",
     "iopub.status.busy": "2022-05-26T19:15:56.521341Z",
     "iopub.status.idle": "2022-05-26T19:15:56.526298Z",
     "shell.execute_reply": "2022-05-26T19:15:56.525549Z"
    },
    "papermill": {
     "duration": 0.048712,
     "end_time": "2022-05-26T19:15:56.528697",
     "exception": false,
     "start_time": "2022-05-26T19:15:56.479985",
     "status": "completed"
    },
    "tags": []
   },
   "outputs": [
    {
     "name": "stdout",
     "output_type": "stream",
     "text": [
      "default\n"
     ]
    }
   ],
   "source": [
    "my_func()"
   ]
  },
  {
   "cell_type": "code",
   "execution_count": 74,
   "id": "13147b29",
   "metadata": {
    "execution": {
     "iopub.execute_input": "2022-05-26T19:15:56.610483Z",
     "iopub.status.busy": "2022-05-26T19:15:56.609575Z",
     "iopub.status.idle": "2022-05-26T19:15:56.614980Z",
     "shell.execute_reply": "2022-05-26T19:15:56.614116Z"
    },
    "papermill": {
     "duration": 0.048061,
     "end_time": "2022-05-26T19:15:56.616832",
     "exception": false,
     "start_time": "2022-05-26T19:15:56.568771",
     "status": "completed"
    },
    "tags": []
   },
   "outputs": [
    {
     "name": "stdout",
     "output_type": "stream",
     "text": [
      "new param\n"
     ]
    }
   ],
   "source": [
    "my_func('new param')"
   ]
  },
  {
   "cell_type": "code",
   "execution_count": 75,
   "id": "abab8354",
   "metadata": {
    "execution": {
     "iopub.execute_input": "2022-05-26T19:15:56.698182Z",
     "iopub.status.busy": "2022-05-26T19:15:56.697438Z",
     "iopub.status.idle": "2022-05-26T19:15:56.703167Z",
     "shell.execute_reply": "2022-05-26T19:15:56.701964Z"
    },
    "papermill": {
     "duration": 0.050077,
     "end_time": "2022-05-26T19:15:56.706632",
     "exception": false,
     "start_time": "2022-05-26T19:15:56.656555",
     "status": "completed"
    },
    "tags": []
   },
   "outputs": [
    {
     "name": "stdout",
     "output_type": "stream",
     "text": [
      "new param\n"
     ]
    }
   ],
   "source": [
    "my_func(param1='new param')"
   ]
  },
  {
   "cell_type": "code",
   "execution_count": 33,
   "id": "28df9673",
   "metadata": {
    "execution": {
     "iopub.execute_input": "2022-05-26T19:15:56.800324Z",
     "iopub.status.busy": "2022-05-26T19:15:56.799816Z",
     "iopub.status.idle": "2022-05-26T19:15:56.805085Z",
     "shell.execute_reply": "2022-05-26T19:15:56.804124Z"
    },
    "papermill": {
     "duration": 0.058019,
     "end_time": "2022-05-26T19:15:56.807128",
     "exception": false,
     "start_time": "2022-05-26T19:15:56.749109",
     "status": "completed"
    },
    "tags": []
   },
   "outputs": [],
   "source": [
    "def square(x,y,z):\n",
    "    return x**2"
   ]
  },
  {
   "cell_type": "code",
   "execution_count": 37,
   "id": "8179b4aa",
   "metadata": {
    "execution": {
     "iopub.execute_input": "2022-05-26T19:15:56.899739Z",
     "iopub.status.busy": "2022-05-26T19:15:56.899208Z",
     "iopub.status.idle": "2022-05-26T19:15:56.904334Z",
     "shell.execute_reply": "2022-05-26T19:15:56.903227Z"
    },
    "papermill": {
     "duration": 0.058226,
     "end_time": "2022-05-26T19:15:56.906695",
     "exception": false,
     "start_time": "2022-05-26T19:15:56.848469",
     "status": "completed"
    },
    "tags": []
   },
   "outputs": [
    {
     "data": {
      "text/plain": [
       "4"
      ]
     },
     "execution_count": 37,
     "metadata": {},
     "output_type": "execute_result"
    }
   ],
   "source": [
    "square(2, 3, 8)"
   ]
  },
  {
   "cell_type": "code",
   "execution_count": 78,
   "id": "5cfbf3a9",
   "metadata": {
    "execution": {
     "iopub.execute_input": "2022-05-26T19:15:56.992902Z",
     "iopub.status.busy": "2022-05-26T19:15:56.992103Z",
     "iopub.status.idle": "2022-05-26T19:15:56.997788Z",
     "shell.execute_reply": "2022-05-26T19:15:56.996786Z"
    },
    "papermill": {
     "duration": 0.050345,
     "end_time": "2022-05-26T19:15:56.999752",
     "exception": false,
     "start_time": "2022-05-26T19:15:56.949407",
     "status": "completed"
    },
    "tags": []
   },
   "outputs": [
    {
     "name": "stdout",
     "output_type": "stream",
     "text": [
      "4\n"
     ]
    }
   ],
   "source": [
    "print(out)"
   ]
  },
  {
   "cell_type": "markdown",
   "id": "a1ff63ad",
   "metadata": {
    "papermill": {
     "duration": 0.049281,
     "end_time": "2022-05-26T19:15:57.095986",
     "exception": false,
     "start_time": "2022-05-26T19:15:57.046705",
     "status": "completed"
    },
    "tags": []
   },
   "source": [
    "# lambda expressions"
   ]
  },
  {
   "cell_type": "code",
   "execution_count": 79,
   "id": "fc098b11",
   "metadata": {
    "execution": {
     "iopub.execute_input": "2022-05-26T19:15:57.181670Z",
     "iopub.status.busy": "2022-05-26T19:15:57.180935Z",
     "iopub.status.idle": "2022-05-26T19:15:57.185507Z",
     "shell.execute_reply": "2022-05-26T19:15:57.184776Z"
    },
    "papermill": {
     "duration": 0.048689,
     "end_time": "2022-05-26T19:15:57.187870",
     "exception": false,
     "start_time": "2022-05-26T19:15:57.139181",
     "status": "completed"
    },
    "tags": []
   },
   "outputs": [],
   "source": [
    "def times2(var):\n",
    "    return var*2"
   ]
  },
  {
   "cell_type": "code",
   "execution_count": 80,
   "id": "4d1301d8",
   "metadata": {
    "execution": {
     "iopub.execute_input": "2022-05-26T19:15:57.272413Z",
     "iopub.status.busy": "2022-05-26T19:15:57.271705Z",
     "iopub.status.idle": "2022-05-26T19:15:57.278125Z",
     "shell.execute_reply": "2022-05-26T19:15:57.277164Z"
    },
    "papermill": {
     "duration": 0.050745,
     "end_time": "2022-05-26T19:15:57.280282",
     "exception": false,
     "start_time": "2022-05-26T19:15:57.229537",
     "status": "completed"
    },
    "tags": []
   },
   "outputs": [
    {
     "data": {
      "text/plain": [
       "4"
      ]
     },
     "execution_count": 80,
     "metadata": {},
     "output_type": "execute_result"
    }
   ],
   "source": [
    "times2(2)"
   ]
  },
  {
   "cell_type": "code",
   "execution_count": 81,
   "id": "8b6e983d",
   "metadata": {
    "execution": {
     "iopub.execute_input": "2022-05-26T19:15:57.363753Z",
     "iopub.status.busy": "2022-05-26T19:15:57.363214Z",
     "iopub.status.idle": "2022-05-26T19:15:57.370229Z",
     "shell.execute_reply": "2022-05-26T19:15:57.369386Z"
    },
    "papermill": {
     "duration": 0.051266,
     "end_time": "2022-05-26T19:15:57.372265",
     "exception": false,
     "start_time": "2022-05-26T19:15:57.320999",
     "status": "completed"
    },
    "tags": []
   },
   "outputs": [
    {
     "data": {
      "text/plain": [
       "<function __main__.<lambda>(var)>"
      ]
     },
     "execution_count": 81,
     "metadata": {},
     "output_type": "execute_result"
    }
   ],
   "source": [
    "lambda var: var*2"
   ]
  },
  {
   "cell_type": "markdown",
   "id": "03cd1441",
   "metadata": {
    "papermill": {
     "duration": 0.040476,
     "end_time": "2022-05-26T19:15:57.453968",
     "exception": false,
     "start_time": "2022-05-26T19:15:57.413492",
     "status": "completed"
    },
    "tags": []
   },
   "source": [
    "# map and filter"
   ]
  },
  {
   "cell_type": "code",
   "execution_count": 82,
   "id": "e1ca09ed",
   "metadata": {
    "execution": {
     "iopub.execute_input": "2022-05-26T19:15:57.538891Z",
     "iopub.status.busy": "2022-05-26T19:15:57.538100Z",
     "iopub.status.idle": "2022-05-26T19:15:57.542914Z",
     "shell.execute_reply": "2022-05-26T19:15:57.542080Z"
    },
    "papermill": {
     "duration": 0.050245,
     "end_time": "2022-05-26T19:15:57.545103",
     "exception": false,
     "start_time": "2022-05-26T19:15:57.494858",
     "status": "completed"
    },
    "tags": []
   },
   "outputs": [],
   "source": [
    "seq = [1,2,3,4,5]"
   ]
  },
  {
   "cell_type": "code",
   "execution_count": 83,
   "id": "8add5882",
   "metadata": {
    "execution": {
     "iopub.execute_input": "2022-05-26T19:15:57.630087Z",
     "iopub.status.busy": "2022-05-26T19:15:57.629290Z",
     "iopub.status.idle": "2022-05-26T19:15:57.634146Z",
     "shell.execute_reply": "2022-05-26T19:15:57.633569Z"
    },
    "papermill": {
     "duration": 0.049247,
     "end_time": "2022-05-26T19:15:57.635863",
     "exception": false,
     "start_time": "2022-05-26T19:15:57.586616",
     "status": "completed"
    },
    "tags": []
   },
   "outputs": [
    {
     "data": {
      "text/plain": [
       "<map at 0x7fb2fd2078d0>"
      ]
     },
     "execution_count": 83,
     "metadata": {},
     "output_type": "execute_result"
    }
   ],
   "source": [
    "map(times2,seq)"
   ]
  },
  {
   "cell_type": "code",
   "execution_count": null,
   "id": "bc97be78",
   "metadata": {
    "execution": {
     "iopub.execute_input": "2022-05-26T19:15:57.720772Z",
     "iopub.status.busy": "2022-05-26T19:15:57.720161Z",
     "iopub.status.idle": "2022-05-26T19:15:57.725678Z",
     "shell.execute_reply": "2022-05-26T19:15:57.724827Z"
    },
    "papermill": {
     "duration": 0.049986,
     "end_time": "2022-05-26T19:15:57.727733",
     "exception": false,
     "start_time": "2022-05-26T19:15:57.677747",
     "status": "completed"
    },
    "tags": []
   },
   "outputs": [],
   "source": []
  },
  {
   "cell_type": "code",
   "execution_count": 85,
   "id": "20b86c42",
   "metadata": {
    "execution": {
     "iopub.execute_input": "2022-05-26T19:15:57.814671Z",
     "iopub.status.busy": "2022-05-26T19:15:57.813995Z",
     "iopub.status.idle": "2022-05-26T19:15:57.819543Z",
     "shell.execute_reply": "2022-05-26T19:15:57.818897Z"
    },
    "papermill": {
     "duration": 0.052269,
     "end_time": "2022-05-26T19:15:57.821389",
     "exception": false,
     "start_time": "2022-05-26T19:15:57.769120",
     "status": "completed"
    },
    "tags": []
   },
   "outputs": [
    {
     "data": {
      "text/plain": [
       "[2, 4, 6, 8, 10]"
      ]
     },
     "execution_count": 85,
     "metadata": {},
     "output_type": "execute_result"
    }
   ],
   "source": [
    "list(map(lambda var: var*2,seq))"
   ]
  },
  {
   "cell_type": "code",
   "execution_count": 86,
   "id": "06cd395b",
   "metadata": {
    "execution": {
     "iopub.execute_input": "2022-05-26T19:15:57.906960Z",
     "iopub.status.busy": "2022-05-26T19:15:57.906540Z",
     "iopub.status.idle": "2022-05-26T19:15:57.912524Z",
     "shell.execute_reply": "2022-05-26T19:15:57.911601Z"
    },
    "papermill": {
     "duration": 0.051842,
     "end_time": "2022-05-26T19:15:57.914653",
     "exception": false,
     "start_time": "2022-05-26T19:15:57.862811",
     "status": "completed"
    },
    "tags": []
   },
   "outputs": [
    {
     "data": {
      "text/plain": [
       "<filter at 0x7fb2fd1f6610>"
      ]
     },
     "execution_count": 86,
     "metadata": {},
     "output_type": "execute_result"
    }
   ],
   "source": [
    "filter(lambda item: item%2 == 0,seq)"
   ]
  },
  {
   "cell_type": "code",
   "execution_count": 87,
   "id": "da5b7ac1",
   "metadata": {
    "execution": {
     "iopub.execute_input": "2022-05-26T19:15:58.000278Z",
     "iopub.status.busy": "2022-05-26T19:15:57.999862Z",
     "iopub.status.idle": "2022-05-26T19:15:58.006399Z",
     "shell.execute_reply": "2022-05-26T19:15:58.005636Z"
    },
    "papermill": {
     "duration": 0.051635,
     "end_time": "2022-05-26T19:15:58.008656",
     "exception": false,
     "start_time": "2022-05-26T19:15:57.957021",
     "status": "completed"
    },
    "tags": []
   },
   "outputs": [
    {
     "data": {
      "text/plain": [
       "[2, 4]"
      ]
     },
     "execution_count": 87,
     "metadata": {},
     "output_type": "execute_result"
    }
   ],
   "source": [
    "list(filter(lambda item: item%2 == 0,seq))"
   ]
  },
  {
   "cell_type": "markdown",
   "id": "50ccdd4e",
   "metadata": {
    "papermill": {
     "duration": 0.041654,
     "end_time": "2022-05-26T19:15:58.092651",
     "exception": false,
     "start_time": "2022-05-26T19:15:58.050997",
     "status": "completed"
    },
    "tags": []
   },
   "source": [
    "# methods"
   ]
  },
  {
   "cell_type": "code",
   "execution_count": 89,
   "id": "3904ffa1",
   "metadata": {
    "execution": {
     "iopub.execute_input": "2022-05-26T19:15:58.268546Z",
     "iopub.status.busy": "2022-05-26T19:15:58.267656Z",
     "iopub.status.idle": "2022-05-26T19:15:58.273923Z",
     "shell.execute_reply": "2022-05-26T19:15:58.272995Z"
    },
    "papermill": {
     "duration": 0.051634,
     "end_time": "2022-05-26T19:15:58.276497",
     "exception": false,
     "start_time": "2022-05-26T19:15:58.224863",
     "status": "completed"
    },
    "tags": []
   },
   "outputs": [
    {
     "data": {
      "text/plain": [
       "'hello my name is sam'"
      ]
     },
     "execution_count": 89,
     "metadata": {},
     "output_type": "execute_result"
    }
   ],
   "source": [
    "st.lower()"
   ]
  },
  {
   "cell_type": "code",
   "execution_count": 90,
   "id": "7860cb4a",
   "metadata": {
    "execution": {
     "iopub.execute_input": "2022-05-26T19:15:58.364995Z",
     "iopub.status.busy": "2022-05-26T19:15:58.364221Z",
     "iopub.status.idle": "2022-05-26T19:15:58.374479Z",
     "shell.execute_reply": "2022-05-26T19:15:58.373354Z"
    },
    "papermill": {
     "duration": 0.057007,
     "end_time": "2022-05-26T19:15:58.376639",
     "exception": false,
     "start_time": "2022-05-26T19:15:58.319632",
     "status": "completed"
    },
    "tags": []
   },
   "outputs": [
    {
     "data": {
      "text/plain": [
       "'HELLO MY NAME IS SAM'"
      ]
     },
     "execution_count": 90,
     "metadata": {},
     "output_type": "execute_result"
    }
   ],
   "source": [
    "st.upper()"
   ]
  },
  {
   "cell_type": "code",
   "execution_count": 46,
   "id": "9b45f954",
   "metadata": {
    "execution": {
     "iopub.execute_input": "2022-05-26T19:15:58.177630Z",
     "iopub.status.busy": "2022-05-26T19:15:58.176848Z",
     "iopub.status.idle": "2022-05-26T19:15:58.180980Z",
     "shell.execute_reply": "2022-05-26T19:15:58.180294Z"
    },
    "papermill": {
     "duration": 0.048441,
     "end_time": "2022-05-26T19:15:58.182793",
     "exception": false,
     "start_time": "2022-05-26T19:15:58.134352",
     "status": "completed"
    },
    "tags": []
   },
   "outputs": [],
   "source": [
    "st = 'hellos=my=Sam'"
   ]
  },
  {
   "cell_type": "code",
   "execution_count": 47,
   "id": "4b5ec618",
   "metadata": {},
   "outputs": [
    {
     "data": {
      "text/plain": [
       "'hello'"
      ]
     },
     "execution_count": 47,
     "metadata": {},
     "output_type": "execute_result"
    }
   ],
   "source": [
    "st[0:5]"
   ]
  },
  {
   "cell_type": "code",
   "execution_count": 50,
   "id": "83b4924f",
   "metadata": {
    "execution": {
     "iopub.execute_input": "2022-05-26T19:15:58.462716Z",
     "iopub.status.busy": "2022-05-26T19:15:58.462290Z",
     "iopub.status.idle": "2022-05-26T19:15:58.468379Z",
     "shell.execute_reply": "2022-05-26T19:15:58.467336Z"
    },
    "papermill": {
     "duration": 0.051822,
     "end_time": "2022-05-26T19:15:58.470495",
     "exception": false,
     "start_time": "2022-05-26T19:15:58.418673",
     "status": "completed"
    },
    "tags": []
   },
   "outputs": [
    {
     "data": {
      "text/plain": [
       "'Sam'"
      ]
     },
     "execution_count": 50,
     "metadata": {},
     "output_type": "execute_result"
    }
   ],
   "source": [
    "st.split('=')[-1]"
   ]
  },
  {
   "cell_type": "code",
   "execution_count": 92,
   "id": "d72772c3",
   "metadata": {
    "execution": {
     "iopub.execute_input": "2022-05-26T19:15:58.558029Z",
     "iopub.status.busy": "2022-05-26T19:15:58.556999Z",
     "iopub.status.idle": "2022-05-26T19:15:58.561365Z",
     "shell.execute_reply": "2022-05-26T19:15:58.560687Z"
    },
    "papermill": {
     "duration": 0.050317,
     "end_time": "2022-05-26T19:15:58.563380",
     "exception": false,
     "start_time": "2022-05-26T19:15:58.513063",
     "status": "completed"
    },
    "tags": []
   },
   "outputs": [],
   "source": [
    "tweet = 'Go Sports! #Sports'"
   ]
  },
  {
   "cell_type": "code",
   "execution_count": 93,
   "id": "747cac3d",
   "metadata": {
    "execution": {
     "iopub.execute_input": "2022-05-26T19:15:58.651306Z",
     "iopub.status.busy": "2022-05-26T19:15:58.650337Z",
     "iopub.status.idle": "2022-05-26T19:15:58.656568Z",
     "shell.execute_reply": "2022-05-26T19:15:58.655920Z"
    },
    "papermill": {
     "duration": 0.052284,
     "end_time": "2022-05-26T19:15:58.658339",
     "exception": false,
     "start_time": "2022-05-26T19:15:58.606055",
     "status": "completed"
    },
    "tags": []
   },
   "outputs": [
    {
     "data": {
      "text/plain": [
       "['Go Sports! ', 'Sports']"
      ]
     },
     "execution_count": 93,
     "metadata": {},
     "output_type": "execute_result"
    }
   ],
   "source": [
    "tweet.split('#')"
   ]
  },
  {
   "cell_type": "code",
   "execution_count": 94,
   "id": "2524fa02",
   "metadata": {
    "execution": {
     "iopub.execute_input": "2022-05-26T19:15:58.746662Z",
     "iopub.status.busy": "2022-05-26T19:15:58.745729Z",
     "iopub.status.idle": "2022-05-26T19:15:58.752341Z",
     "shell.execute_reply": "2022-05-26T19:15:58.751441Z"
    },
    "papermill": {
     "duration": 0.053276,
     "end_time": "2022-05-26T19:15:58.754305",
     "exception": false,
     "start_time": "2022-05-26T19:15:58.701029",
     "status": "completed"
    },
    "tags": []
   },
   "outputs": [
    {
     "data": {
      "text/plain": [
       "'Sports'"
      ]
     },
     "execution_count": 94,
     "metadata": {},
     "output_type": "execute_result"
    }
   ],
   "source": [
    "tweet.split('#')[1]"
   ]
  },
  {
   "cell_type": "code",
   "execution_count": 95,
   "id": "bdb83434",
   "metadata": {
    "execution": {
     "iopub.execute_input": "2022-05-26T19:15:58.841957Z",
     "iopub.status.busy": "2022-05-26T19:15:58.841546Z",
     "iopub.status.idle": "2022-05-26T19:15:58.846702Z",
     "shell.execute_reply": "2022-05-26T19:15:58.846018Z"
    },
    "papermill": {
     "duration": 0.050983,
     "end_time": "2022-05-26T19:15:58.848468",
     "exception": false,
     "start_time": "2022-05-26T19:15:58.797485",
     "status": "completed"
    },
    "tags": []
   },
   "outputs": [
    {
     "data": {
      "text/plain": [
       "{'key1': 'item1', 'key2': 'item2'}"
      ]
     },
     "execution_count": 95,
     "metadata": {},
     "output_type": "execute_result"
    }
   ],
   "source": [
    "d"
   ]
  },
  {
   "cell_type": "code",
   "execution_count": 96,
   "id": "fae4a89a",
   "metadata": {
    "execution": {
     "iopub.execute_input": "2022-05-26T19:15:58.937129Z",
     "iopub.status.busy": "2022-05-26T19:15:58.936731Z",
     "iopub.status.idle": "2022-05-26T19:15:58.941958Z",
     "shell.execute_reply": "2022-05-26T19:15:58.941247Z"
    },
    "papermill": {
     "duration": 0.052015,
     "end_time": "2022-05-26T19:15:58.943603",
     "exception": false,
     "start_time": "2022-05-26T19:15:58.891588",
     "status": "completed"
    },
    "tags": []
   },
   "outputs": [
    {
     "data": {
      "text/plain": [
       "dict_keys(['key1', 'key2'])"
      ]
     },
     "execution_count": 96,
     "metadata": {},
     "output_type": "execute_result"
    }
   ],
   "source": [
    "d.keys()"
   ]
  },
  {
   "cell_type": "code",
   "execution_count": 97,
   "id": "558b37b9",
   "metadata": {
    "execution": {
     "iopub.execute_input": "2022-05-26T19:15:59.033307Z",
     "iopub.status.busy": "2022-05-26T19:15:59.032669Z",
     "iopub.status.idle": "2022-05-26T19:15:59.037943Z",
     "shell.execute_reply": "2022-05-26T19:15:59.037187Z"
    },
    "papermill": {
     "duration": 0.0518,
     "end_time": "2022-05-26T19:15:59.039778",
     "exception": false,
     "start_time": "2022-05-26T19:15:58.987978",
     "status": "completed"
    },
    "tags": []
   },
   "outputs": [
    {
     "data": {
      "text/plain": [
       "dict_items([('key1', 'item1'), ('key2', 'item2')])"
      ]
     },
     "execution_count": 97,
     "metadata": {},
     "output_type": "execute_result"
    }
   ],
   "source": [
    "d.items()"
   ]
  },
  {
   "cell_type": "code",
   "execution_count": 52,
   "id": "30be7970",
   "metadata": {
    "execution": {
     "iopub.execute_input": "2022-05-26T19:15:59.129053Z",
     "iopub.status.busy": "2022-05-26T19:15:59.128252Z",
     "iopub.status.idle": "2022-05-26T19:15:59.132303Z",
     "shell.execute_reply": "2022-05-26T19:15:59.131664Z"
    },
    "papermill": {
     "duration": 0.050611,
     "end_time": "2022-05-26T19:15:59.134277",
     "exception": false,
     "start_time": "2022-05-26T19:15:59.083666",
     "status": "completed"
    },
    "tags": []
   },
   "outputs": [],
   "source": [
    "lst = [1,2,3]"
   ]
  },
  {
   "cell_type": "code",
   "execution_count": 53,
   "id": "05a342dc",
   "metadata": {
    "execution": {
     "iopub.execute_input": "2022-05-26T19:15:59.222346Z",
     "iopub.status.busy": "2022-05-26T19:15:59.221729Z",
     "iopub.status.idle": "2022-05-26T19:15:59.227205Z",
     "shell.execute_reply": "2022-05-26T19:15:59.226251Z"
    },
    "papermill": {
     "duration": 0.051623,
     "end_time": "2022-05-26T19:15:59.229126",
     "exception": false,
     "start_time": "2022-05-26T19:15:59.177503",
     "status": "completed"
    },
    "tags": []
   },
   "outputs": [],
   "source": [
    "io = lst.pop()"
   ]
  },
  {
   "cell_type": "code",
   "execution_count": 100,
   "id": "2636dcd0",
   "metadata": {
    "execution": {
     "iopub.execute_input": "2022-05-26T19:15:59.317316Z",
     "iopub.status.busy": "2022-05-26T19:15:59.316695Z",
     "iopub.status.idle": "2022-05-26T19:15:59.322137Z",
     "shell.execute_reply": "2022-05-26T19:15:59.321199Z"
    },
    "papermill": {
     "duration": 0.051604,
     "end_time": "2022-05-26T19:15:59.323971",
     "exception": false,
     "start_time": "2022-05-26T19:15:59.272367",
     "status": "completed"
    },
    "tags": []
   },
   "outputs": [
    {
     "data": {
      "text/plain": [
       "[1, 2]"
      ]
     },
     "execution_count": 100,
     "metadata": {},
     "output_type": "execute_result"
    }
   ],
   "source": [
    "lst"
   ]
  },
  {
   "cell_type": "code",
   "execution_count": 101,
   "id": "02c5dc2c",
   "metadata": {
    "execution": {
     "iopub.execute_input": "2022-05-26T19:15:59.418920Z",
     "iopub.status.busy": "2022-05-26T19:15:59.418238Z",
     "iopub.status.idle": "2022-05-26T19:15:59.424778Z",
     "shell.execute_reply": "2022-05-26T19:15:59.423837Z"
    },
    "papermill": {
     "duration": 0.060024,
     "end_time": "2022-05-26T19:15:59.427808",
     "exception": false,
     "start_time": "2022-05-26T19:15:59.367784",
     "status": "completed"
    },
    "tags": []
   },
   "outputs": [
    {
     "data": {
      "text/plain": [
       "False"
      ]
     },
     "execution_count": 101,
     "metadata": {},
     "output_type": "execute_result"
    }
   ],
   "source": [
    "'x' in [1,2,3]"
   ]
  },
  {
   "cell_type": "code",
   "execution_count": 102,
   "id": "a9987077",
   "metadata": {
    "execution": {
     "iopub.execute_input": "2022-05-26T19:15:59.530000Z",
     "iopub.status.busy": "2022-05-26T19:15:59.529038Z",
     "iopub.status.idle": "2022-05-26T19:15:59.534655Z",
     "shell.execute_reply": "2022-05-26T19:15:59.533787Z"
    },
    "papermill": {
     "duration": 0.052401,
     "end_time": "2022-05-26T19:15:59.536646",
     "exception": false,
     "start_time": "2022-05-26T19:15:59.484245",
     "status": "completed"
    },
    "tags": []
   },
   "outputs": [
    {
     "data": {
      "text/plain": [
       "True"
      ]
     },
     "execution_count": 102,
     "metadata": {},
     "output_type": "execute_result"
    }
   ],
   "source": [
    "'x' in ['x','y','z']"
   ]
  },
  {
   "cell_type": "code",
   "execution_count": null,
   "id": "d61902ff",
   "metadata": {
    "papermill": {
     "duration": 0.04454,
     "end_time": "2022-05-26T19:15:59.626604",
     "exception": false,
     "start_time": "2022-05-26T19:15:59.582064",
     "status": "completed"
    },
    "tags": []
   },
   "outputs": [],
   "source": []
  },
  {
   "cell_type": "code",
   "execution_count": null,
   "id": "e20f91b0",
   "metadata": {
    "papermill": {
     "duration": 0.043874,
     "end_time": "2022-05-26T19:15:59.715007",
     "exception": false,
     "start_time": "2022-05-26T19:15:59.671133",
     "status": "completed"
    },
    "tags": []
   },
   "outputs": [],
   "source": []
  },
  {
   "cell_type": "code",
   "execution_count": null,
   "id": "69479b8d",
   "metadata": {
    "papermill": {
     "duration": 0.045686,
     "end_time": "2022-05-26T19:15:59.804579",
     "exception": false,
     "start_time": "2022-05-26T19:15:59.758893",
     "status": "completed"
    },
    "tags": []
   },
   "outputs": [],
   "source": []
  },
  {
   "cell_type": "markdown",
   "id": "7ee2a0dc",
   "metadata": {
    "papermill": {
     "duration": 0.043882,
     "end_time": "2022-05-26T19:15:59.892884",
     "exception": false,
     "start_time": "2022-05-26T19:15:59.849002",
     "status": "completed"
    },
    "tags": []
   },
   "source": [
    "# Python Crash Course Exercises - Solutions"
   ]
  },
  {
   "cell_type": "code",
   "execution_count": null,
   "id": "4cebccff",
   "metadata": {
    "papermill": {
     "duration": 0.044802,
     "end_time": "2022-05-26T19:15:59.981975",
     "exception": false,
     "start_time": "2022-05-26T19:15:59.937173",
     "status": "completed"
    },
    "tags": []
   },
   "outputs": [],
   "source": []
  },
  {
   "cell_type": "code",
   "execution_count": 103,
   "id": "22e71977",
   "metadata": {
    "execution": {
     "iopub.execute_input": "2022-05-26T19:16:00.072141Z",
     "iopub.status.busy": "2022-05-26T19:16:00.071243Z",
     "iopub.status.idle": "2022-05-26T19:16:00.076398Z",
     "shell.execute_reply": "2022-05-26T19:16:00.075769Z"
    },
    "papermill": {
     "duration": 0.052487,
     "end_time": "2022-05-26T19:16:00.078287",
     "exception": false,
     "start_time": "2022-05-26T19:16:00.025800",
     "status": "completed"
    },
    "tags": []
   },
   "outputs": [
    {
     "data": {
      "text/plain": [
       "2401"
      ]
     },
     "execution_count": 103,
     "metadata": {},
     "output_type": "execute_result"
    }
   ],
   "source": [
    "#What is 7 to the power of 4?\n",
    "7 **4"
   ]
  },
  {
   "cell_type": "markdown",
   "id": "7663c166",
   "metadata": {
    "papermill": {
     "duration": 0.044636,
     "end_time": "2022-05-26T19:16:00.167947",
     "exception": false,
     "start_time": "2022-05-26T19:16:00.123311",
     "status": "completed"
    },
    "tags": []
   },
   "source": [
    "# Split this string:\n"
   ]
  },
  {
   "cell_type": "code",
   "execution_count": 104,
   "id": "6ead1f3e",
   "metadata": {
    "execution": {
     "iopub.execute_input": "2022-05-26T19:16:00.259769Z",
     "iopub.status.busy": "2022-05-26T19:16:00.259166Z",
     "iopub.status.idle": "2022-05-26T19:16:00.264471Z",
     "shell.execute_reply": "2022-05-26T19:16:00.263820Z"
    },
    "papermill": {
     "duration": 0.053441,
     "end_time": "2022-05-26T19:16:00.266308",
     "exception": false,
     "start_time": "2022-05-26T19:16:00.212867",
     "status": "completed"
    },
    "tags": []
   },
   "outputs": [
    {
     "data": {
      "text/plain": [
       "['Hi', 'there', 'Sam!']"
      ]
     },
     "execution_count": 104,
     "metadata": {},
     "output_type": "execute_result"
    }
   ],
   "source": [
    "s = \"Hi there Sam!\"\n",
    "s.split()"
   ]
  },
  {
   "cell_type": "markdown",
   "id": "4bee0151",
   "metadata": {
    "papermill": {
     "duration": 0.044966,
     "end_time": "2022-05-26T19:16:00.357829",
     "exception": false,
     "start_time": "2022-05-26T19:16:00.312863",
     "status": "completed"
    },
    "tags": []
   },
   "source": [
    "# Use .format() to print the following string:\n",
    "\n",
    "The diameter of Earth is 12742 kilometers."
   ]
  },
  {
   "cell_type": "code",
   "execution_count": 105,
   "id": "a6d8bcf2",
   "metadata": {
    "execution": {
     "iopub.execute_input": "2022-05-26T19:16:00.450019Z",
     "iopub.status.busy": "2022-05-26T19:16:00.449314Z",
     "iopub.status.idle": "2022-05-26T19:16:00.453464Z",
     "shell.execute_reply": "2022-05-26T19:16:00.452640Z"
    },
    "papermill": {
     "duration": 0.052545,
     "end_time": "2022-05-26T19:16:00.455457",
     "exception": false,
     "start_time": "2022-05-26T19:16:00.402912",
     "status": "completed"
    },
    "tags": []
   },
   "outputs": [],
   "source": [
    "planet = \"Earth\"\n",
    "diameter = 12742"
   ]
  },
  {
   "cell_type": "code",
   "execution_count": 106,
   "id": "4ec63257",
   "metadata": {
    "execution": {
     "iopub.execute_input": "2022-05-26T19:16:00.546531Z",
     "iopub.status.busy": "2022-05-26T19:16:00.546131Z",
     "iopub.status.idle": "2022-05-26T19:16:00.551275Z",
     "shell.execute_reply": "2022-05-26T19:16:00.550077Z"
    },
    "papermill": {
     "duration": 0.053785,
     "end_time": "2022-05-26T19:16:00.553659",
     "exception": false,
     "start_time": "2022-05-26T19:16:00.499874",
     "status": "completed"
    },
    "tags": []
   },
   "outputs": [
    {
     "name": "stdout",
     "output_type": "stream",
     "text": [
      "The diameter of Earth is 12742 kilometers.\n"
     ]
    }
   ],
   "source": [
    "print(\"The diameter of {} is {} kilometers.\".format(planet,diameter))"
   ]
  },
  {
   "cell_type": "markdown",
   "id": "56d4fc01",
   "metadata": {
    "papermill": {
     "duration": 0.044009,
     "end_time": "2022-05-26T19:16:00.642690",
     "exception": false,
     "start_time": "2022-05-26T19:16:00.598681",
     "status": "completed"
    },
    "tags": []
   },
   "source": [
    "# Given this nested list, use indexing to grab the word \"hello\""
   ]
  },
  {
   "cell_type": "code",
   "execution_count": 107,
   "id": "754b09d2",
   "metadata": {
    "execution": {
     "iopub.execute_input": "2022-05-26T19:16:00.733884Z",
     "iopub.status.busy": "2022-05-26T19:16:00.732840Z",
     "iopub.status.idle": "2022-05-26T19:16:00.738230Z",
     "shell.execute_reply": "2022-05-26T19:16:00.737203Z"
    },
    "papermill": {
     "duration": 0.053407,
     "end_time": "2022-05-26T19:16:00.740284",
     "exception": false,
     "start_time": "2022-05-26T19:16:00.686877",
     "status": "completed"
    },
    "tags": []
   },
   "outputs": [],
   "source": [
    "lst = [1,2,[3,4],[5,[100,200,['hello']],23,11],1,7]"
   ]
  },
  {
   "cell_type": "code",
   "execution_count": 108,
   "id": "86d41bb5",
   "metadata": {
    "execution": {
     "iopub.execute_input": "2022-05-26T19:16:00.834218Z",
     "iopub.status.busy": "2022-05-26T19:16:00.833612Z",
     "iopub.status.idle": "2022-05-26T19:16:00.839004Z",
     "shell.execute_reply": "2022-05-26T19:16:00.838176Z"
    },
    "papermill": {
     "duration": 0.055583,
     "end_time": "2022-05-26T19:16:00.840891",
     "exception": false,
     "start_time": "2022-05-26T19:16:00.785308",
     "status": "completed"
    },
    "tags": []
   },
   "outputs": [
    {
     "data": {
      "text/plain": [
       "'hello'"
      ]
     },
     "execution_count": 108,
     "metadata": {},
     "output_type": "execute_result"
    }
   ],
   "source": [
    "lst[3][1][2][0]"
   ]
  },
  {
   "cell_type": "markdown",
   "id": "8660be55",
   "metadata": {
    "papermill": {
     "duration": 0.046939,
     "end_time": "2022-05-26T19:16:00.932762",
     "exception": false,
     "start_time": "2022-05-26T19:16:00.885823",
     "status": "completed"
    },
    "tags": []
   },
   "source": [
    "# Given this nest dictionary grab the word \"hello\". Be prepared, this will be annoying/tricky"
   ]
  },
  {
   "cell_type": "code",
   "execution_count": 109,
   "id": "9f098de0",
   "metadata": {
    "execution": {
     "iopub.execute_input": "2022-05-26T19:16:01.027021Z",
     "iopub.status.busy": "2022-05-26T19:16:01.026191Z",
     "iopub.status.idle": "2022-05-26T19:16:01.031075Z",
     "shell.execute_reply": "2022-05-26T19:16:01.030387Z"
    },
    "papermill": {
     "duration": 0.054148,
     "end_time": "2022-05-26T19:16:01.032726",
     "exception": false,
     "start_time": "2022-05-26T19:16:00.978578",
     "status": "completed"
    },
    "tags": []
   },
   "outputs": [],
   "source": [
    "d = {'k1':[1,2,3,{'tricky':['oh','man','inception',{'target':[1,2,3,'hello']}]}]}"
   ]
  },
  {
   "cell_type": "code",
   "execution_count": 110,
   "id": "3810e686",
   "metadata": {
    "execution": {
     "iopub.execute_input": "2022-05-26T19:16:01.126688Z",
     "iopub.status.busy": "2022-05-26T19:16:01.125441Z",
     "iopub.status.idle": "2022-05-26T19:16:01.132390Z",
     "shell.execute_reply": "2022-05-26T19:16:01.131405Z"
    },
    "papermill": {
     "duration": 0.056682,
     "end_time": "2022-05-26T19:16:01.134612",
     "exception": false,
     "start_time": "2022-05-26T19:16:01.077930",
     "status": "completed"
    },
    "tags": []
   },
   "outputs": [
    {
     "data": {
      "text/plain": [
       "'hello'"
      ]
     },
     "execution_count": 110,
     "metadata": {},
     "output_type": "execute_result"
    }
   ],
   "source": [
    "d['k1'][3]['tricky'][3]['target'][3]"
   ]
  },
  {
   "cell_type": "markdown",
   "id": "c61913f9",
   "metadata": {
    "papermill": {
     "duration": 0.046014,
     "end_time": "2022-05-26T19:16:01.226616",
     "exception": false,
     "start_time": "2022-05-26T19:16:01.180602",
     "status": "completed"
    },
    "tags": []
   },
   "source": [
    "# What is the main difference between a tuple and a list?"
   ]
  },
  {
   "cell_type": "code",
   "execution_count": 111,
   "id": "ba420d64",
   "metadata": {
    "execution": {
     "iopub.execute_input": "2022-05-26T19:16:01.320090Z",
     "iopub.status.busy": "2022-05-26T19:16:01.319666Z",
     "iopub.status.idle": "2022-05-26T19:16:01.323504Z",
     "shell.execute_reply": "2022-05-26T19:16:01.322801Z"
    },
    "papermill": {
     "duration": 0.05283,
     "end_time": "2022-05-26T19:16:01.325421",
     "exception": false,
     "start_time": "2022-05-26T19:16:01.272591",
     "status": "completed"
    },
    "tags": []
   },
   "outputs": [],
   "source": [
    "# Tuple is immutable\n"
   ]
  },
  {
   "cell_type": "markdown",
   "id": "858fc02a",
   "metadata": {
    "papermill": {
     "duration": 0.045433,
     "end_time": "2022-05-26T19:16:01.416312",
     "exception": false,
     "start_time": "2022-05-26T19:16:01.370879",
     "status": "completed"
    },
    "tags": []
   },
   "source": [
    "# Create a function that grabs the email website domain from a string in the form:\n",
    "\n",
    "#user@domain.com\n",
    "\n",
    "#So for example, passing \"user@domain.com\" would return: domain.com"
   ]
  },
  {
   "cell_type": "code",
   "execution_count": 112,
   "id": "9cab417c",
   "metadata": {
    "execution": {
     "iopub.execute_input": "2022-05-26T19:16:01.508635Z",
     "iopub.status.busy": "2022-05-26T19:16:01.507777Z",
     "iopub.status.idle": "2022-05-26T19:16:01.513181Z",
     "shell.execute_reply": "2022-05-26T19:16:01.512189Z"
    },
    "papermill": {
     "duration": 0.053585,
     "end_time": "2022-05-26T19:16:01.515305",
     "exception": false,
     "start_time": "2022-05-26T19:16:01.461720",
     "status": "completed"
    },
    "tags": []
   },
   "outputs": [],
   "source": [
    "def domainGet(email):\n",
    "    return email.split('@')[-1]"
   ]
  },
  {
   "cell_type": "code",
   "execution_count": 113,
   "id": "1d9e90e7",
   "metadata": {
    "execution": {
     "iopub.execute_input": "2022-05-26T19:16:01.608601Z",
     "iopub.status.busy": "2022-05-26T19:16:01.607593Z",
     "iopub.status.idle": "2022-05-26T19:16:01.614288Z",
     "shell.execute_reply": "2022-05-26T19:16:01.613232Z"
    },
    "papermill": {
     "duration": 0.055839,
     "end_time": "2022-05-26T19:16:01.616401",
     "exception": false,
     "start_time": "2022-05-26T19:16:01.560562",
     "status": "completed"
    },
    "tags": []
   },
   "outputs": [
    {
     "data": {
      "text/plain": [
       "'domain.com'"
      ]
     },
     "execution_count": 113,
     "metadata": {},
     "output_type": "execute_result"
    }
   ],
   "source": [
    "domainGet('user@domain.com')"
   ]
  },
  {
   "cell_type": "markdown",
   "id": "7865b7c0",
   "metadata": {
    "papermill": {
     "duration": 0.045056,
     "end_time": "2022-05-26T19:16:01.707021",
     "exception": false,
     "start_time": "2022-05-26T19:16:01.661965",
     "status": "completed"
    },
    "tags": []
   },
   "source": [
    "# Create a basic function that returns True if the word 'dog' is contained in the input string. Don't worry about edge cases like a punctuation being attached to the word dog, but do account for capitalization."
   ]
  },
  {
   "cell_type": "code",
   "execution_count": 114,
   "id": "d7f28900",
   "metadata": {
    "execution": {
     "iopub.execute_input": "2022-05-26T19:16:01.799574Z",
     "iopub.status.busy": "2022-05-26T19:16:01.799137Z",
     "iopub.status.idle": "2022-05-26T19:16:01.804335Z",
     "shell.execute_reply": "2022-05-26T19:16:01.803617Z"
    },
    "papermill": {
     "duration": 0.054186,
     "end_time": "2022-05-26T19:16:01.806592",
     "exception": false,
     "start_time": "2022-05-26T19:16:01.752406",
     "status": "completed"
    },
    "tags": []
   },
   "outputs": [],
   "source": [
    "def findDog(st):\n",
    "    return 'dog' in st.lower().split()"
   ]
  },
  {
   "cell_type": "code",
   "execution_count": 115,
   "id": "87839561",
   "metadata": {
    "execution": {
     "iopub.execute_input": "2022-05-26T19:16:01.900986Z",
     "iopub.status.busy": "2022-05-26T19:16:01.900169Z",
     "iopub.status.idle": "2022-05-26T19:16:01.905347Z",
     "shell.execute_reply": "2022-05-26T19:16:01.904662Z"
    },
    "papermill": {
     "duration": 0.053773,
     "end_time": "2022-05-26T19:16:01.907410",
     "exception": false,
     "start_time": "2022-05-26T19:16:01.853637",
     "status": "completed"
    },
    "tags": []
   },
   "outputs": [
    {
     "data": {
      "text/plain": [
       "True"
      ]
     },
     "execution_count": 115,
     "metadata": {},
     "output_type": "execute_result"
    }
   ],
   "source": [
    "findDog('Is there a dog here?')"
   ]
  },
  {
   "cell_type": "markdown",
   "id": "515f7f47",
   "metadata": {
    "papermill": {
     "duration": 0.045974,
     "end_time": "2022-05-26T19:16:02.000042",
     "exception": false,
     "start_time": "2022-05-26T19:16:01.954068",
     "status": "completed"
    },
    "tags": []
   },
   "source": [
    "# Create a function that counts the number of times the word \"dog\" occurs in a string. Again ignore edge cases."
   ]
  },
  {
   "cell_type": "code",
   "execution_count": 116,
   "id": "d95c21b8",
   "metadata": {
    "execution": {
     "iopub.execute_input": "2022-05-26T19:16:02.094296Z",
     "iopub.status.busy": "2022-05-26T19:16:02.093714Z",
     "iopub.status.idle": "2022-05-26T19:16:02.098492Z",
     "shell.execute_reply": "2022-05-26T19:16:02.097786Z"
    },
    "papermill": {
     "duration": 0.054526,
     "end_time": "2022-05-26T19:16:02.100589",
     "exception": false,
     "start_time": "2022-05-26T19:16:02.046063",
     "status": "completed"
    },
    "tags": []
   },
   "outputs": [],
   "source": [
    "def countDog(st):\n",
    "    count = 0\n",
    "    for word in st.lower().split():\n",
    "        if word == 'dog':\n",
    "            count += 1\n",
    "    return count"
   ]
  },
  {
   "cell_type": "code",
   "execution_count": 117,
   "id": "0df67cdb",
   "metadata": {
    "execution": {
     "iopub.execute_input": "2022-05-26T19:16:02.194544Z",
     "iopub.status.busy": "2022-05-26T19:16:02.193967Z",
     "iopub.status.idle": "2022-05-26T19:16:02.198885Z",
     "shell.execute_reply": "2022-05-26T19:16:02.198055Z"
    },
    "papermill": {
     "duration": 0.053743,
     "end_time": "2022-05-26T19:16:02.200736",
     "exception": false,
     "start_time": "2022-05-26T19:16:02.146993",
     "status": "completed"
    },
    "tags": []
   },
   "outputs": [
    {
     "data": {
      "text/plain": [
       "2"
      ]
     },
     "execution_count": 117,
     "metadata": {},
     "output_type": "execute_result"
    }
   ],
   "source": [
    "countDog('This dog runs faster than the other dog dude!')"
   ]
  },
  {
   "cell_type": "markdown",
   "id": "3eb03e51",
   "metadata": {
    "papermill": {
     "duration": 0.046544,
     "end_time": "2022-05-26T19:16:02.294167",
     "exception": false,
     "start_time": "2022-05-26T19:16:02.247623",
     "status": "completed"
    },
    "tags": []
   },
   "source": [
    "# Use lambda expressions and the filter() function to filter out words from a list that don't start with the letter 's'. For example:"
   ]
  },
  {
   "cell_type": "markdown",
   "id": "b2c9c785",
   "metadata": {
    "papermill": {
     "duration": 0.04579,
     "end_time": "2022-05-26T19:16:02.386346",
     "exception": false,
     "start_time": "2022-05-26T19:16:02.340556",
     "status": "completed"
    },
    "tags": []
   },
   "source": [
    "seq = ['soup','dog','salad','cat','great']"
   ]
  },
  {
   "cell_type": "markdown",
   "id": "6a311d78",
   "metadata": {
    "papermill": {
     "duration": 0.045428,
     "end_time": "2022-05-26T19:16:02.478011",
     "exception": false,
     "start_time": "2022-05-26T19:16:02.432583",
     "status": "completed"
    },
    "tags": []
   },
   "source": [
    "# should be filtered down to:"
   ]
  },
  {
   "cell_type": "markdown",
   "id": "beaa470f",
   "metadata": {
    "papermill": {
     "duration": 0.045517,
     "end_time": "2022-05-26T19:16:02.569394",
     "exception": false,
     "start_time": "2022-05-26T19:16:02.523877",
     "status": "completed"
    },
    "tags": []
   },
   "source": [
    "['soup','salad']"
   ]
  },
  {
   "cell_type": "code",
   "execution_count": 118,
   "id": "91ee6288",
   "metadata": {
    "execution": {
     "iopub.execute_input": "2022-05-26T19:16:02.663465Z",
     "iopub.status.busy": "2022-05-26T19:16:02.662806Z",
     "iopub.status.idle": "2022-05-26T19:16:02.666503Z",
     "shell.execute_reply": "2022-05-26T19:16:02.665919Z"
    },
    "papermill": {
     "duration": 0.052905,
     "end_time": "2022-05-26T19:16:02.668261",
     "exception": false,
     "start_time": "2022-05-26T19:16:02.615356",
     "status": "completed"
    },
    "tags": []
   },
   "outputs": [],
   "source": [
    "seq = ['soup','dog','salad','cat','great']"
   ]
  },
  {
   "cell_type": "code",
   "execution_count": 119,
   "id": "80e99eca",
   "metadata": {
    "execution": {
     "iopub.execute_input": "2022-05-26T19:16:02.762546Z",
     "iopub.status.busy": "2022-05-26T19:16:02.761821Z",
     "iopub.status.idle": "2022-05-26T19:16:02.768813Z",
     "shell.execute_reply": "2022-05-26T19:16:02.767989Z"
    },
    "papermill": {
     "duration": 0.056426,
     "end_time": "2022-05-26T19:16:02.770670",
     "exception": false,
     "start_time": "2022-05-26T19:16:02.714244",
     "status": "completed"
    },
    "tags": []
   },
   "outputs": [
    {
     "data": {
      "text/plain": [
       "['soup', 'salad']"
      ]
     },
     "execution_count": 119,
     "metadata": {},
     "output_type": "execute_result"
    }
   ],
   "source": [
    "list(filter(lambda word: word[0]=='s',seq))"
   ]
  },
  {
   "cell_type": "markdown",
   "id": "68054daa",
   "metadata": {
    "papermill": {
     "duration": 0.048234,
     "end_time": "2022-05-26T19:16:02.867057",
     "exception": false,
     "start_time": "2022-05-26T19:16:02.818823",
     "status": "completed"
    },
    "tags": []
   },
   "source": [
    "# Final Problem\n",
    "You are driving a little too fast, and a police officer stops you. Write a function to return one of 3 possible results: \"No ticket\", \"Small ticket\", or \"Big Ticket\". If your speed is 60 or less, the result is \"No Ticket\". If speed is between 61 and 80 inclusive, the result is \"Small Ticket\". If speed is 81 or more, the result is \"Big Ticket\". Unless it is your birthday (encoded as a boolean value in the parameters of the function) -- on your birthday, your speed can be 5 higher in all cases."
   ]
  },
  {
   "cell_type": "markdown",
   "id": "7ee15e0a",
   "metadata": {
    "papermill": {
     "duration": 0.04673,
     "end_time": "2022-05-26T19:16:02.960589",
     "exception": false,
     "start_time": "2022-05-26T19:16:02.913859",
     "status": "completed"
    },
    "tags": []
   },
   "source": [
    "# ?"
   ]
  },
  {
   "cell_type": "code",
   "execution_count": 120,
   "id": "e8d3e431",
   "metadata": {
    "execution": {
     "iopub.execute_input": "2022-05-26T19:16:03.055408Z",
     "iopub.status.busy": "2022-05-26T19:16:03.054818Z",
     "iopub.status.idle": "2022-05-26T19:16:03.060027Z",
     "shell.execute_reply": "2022-05-26T19:16:03.059088Z"
    },
    "papermill": {
     "duration": 0.055473,
     "end_time": "2022-05-26T19:16:03.062287",
     "exception": false,
     "start_time": "2022-05-26T19:16:03.006814",
     "status": "completed"
    },
    "tags": []
   },
   "outputs": [],
   "source": [
    "def caught_speeding(speed, is_birthday):\n",
    "    \n",
    "    if is_birthday:\n",
    "        speeding = speed - 5\n",
    "    else:\n",
    "        speeding = speed\n",
    "    \n",
    "    if speeding > 80:\n",
    "        return 'Big Ticket'\n",
    "    elif speeding > 60:\n",
    "        return 'Small Ticket'\n",
    "    else:\n",
    "        return 'No Ticket'"
   ]
  },
  {
   "cell_type": "code",
   "execution_count": 121,
   "id": "d38ecf13",
   "metadata": {
    "execution": {
     "iopub.execute_input": "2022-05-26T19:16:03.159318Z",
     "iopub.status.busy": "2022-05-26T19:16:03.158616Z",
     "iopub.status.idle": "2022-05-26T19:16:03.164191Z",
     "shell.execute_reply": "2022-05-26T19:16:03.163596Z"
    },
    "papermill": {
     "duration": 0.055118,
     "end_time": "2022-05-26T19:16:03.166149",
     "exception": false,
     "start_time": "2022-05-26T19:16:03.111031",
     "status": "completed"
    },
    "tags": []
   },
   "outputs": [
    {
     "data": {
      "text/plain": [
       "'Small Ticket'"
      ]
     },
     "execution_count": 121,
     "metadata": {},
     "output_type": "execute_result"
    }
   ],
   "source": [
    "caught_speeding(81,True)"
   ]
  },
  {
   "cell_type": "code",
   "execution_count": 122,
   "id": "ce75d4c9",
   "metadata": {
    "execution": {
     "iopub.execute_input": "2022-05-26T19:16:03.262115Z",
     "iopub.status.busy": "2022-05-26T19:16:03.261467Z",
     "iopub.status.idle": "2022-05-26T19:16:03.266969Z",
     "shell.execute_reply": "2022-05-26T19:16:03.265970Z"
    },
    "papermill": {
     "duration": 0.056385,
     "end_time": "2022-05-26T19:16:03.269062",
     "exception": false,
     "start_time": "2022-05-26T19:16:03.212677",
     "status": "completed"
    },
    "tags": []
   },
   "outputs": [
    {
     "data": {
      "text/plain": [
       "'Small Ticket'"
      ]
     },
     "execution_count": 122,
     "metadata": {},
     "output_type": "execute_result"
    }
   ],
   "source": [
    "caught_speeding(81,True)"
   ]
  },
  {
   "cell_type": "code",
   "execution_count": null,
   "id": "7fc78a68",
   "metadata": {
    "papermill": {
     "duration": 0.046873,
     "end_time": "2022-05-26T19:16:03.364291",
     "exception": false,
     "start_time": "2022-05-26T19:16:03.317418",
     "status": "completed"
    },
    "tags": []
   },
   "outputs": [],
   "source": []
  }
 ],
 "metadata": {
  "kernelspec": {
   "display_name": "Python 3 (ipykernel)",
   "language": "python",
   "name": "python3"
  },
  "language_info": {
   "codemirror_mode": {
    "name": "ipython",
    "version": 3
   },
   "file_extension": ".py",
   "mimetype": "text/x-python",
   "name": "python",
   "nbconvert_exporter": "python",
   "pygments_lexer": "ipython3",
   "version": "3.11.4"
  },
  "papermill": {
   "default_parameters": {},
   "duration": 25.242941,
   "end_time": "2022-05-26T19:16:04.131945",
   "environment_variables": {},
   "exception": null,
   "input_path": "__notebook__.ipynb",
   "output_path": "__notebook__.ipynb",
   "parameters": {},
   "start_time": "2022-05-26T19:15:38.889004",
   "version": "2.3.4"
  }
 },
 "nbformat": 4,
 "nbformat_minor": 5
}
